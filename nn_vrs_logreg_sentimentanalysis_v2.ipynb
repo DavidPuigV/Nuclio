{
  "nbformat": 4,
  "nbformat_minor": 0,
  "metadata": {
    "kernelspec": {
      "display_name": "Python 3",
      "language": "python",
      "name": "python3"
    },
    "language_info": {
      "codemirror_mode": {
        "name": "ipython",
        "version": 3
      },
      "file_extension": ".py",
      "mimetype": "text/x-python",
      "name": "python",
      "nbconvert_exporter": "python",
      "pygments_lexer": "ipython3",
      "version": "3.7.4"
    },
    "colab": {
      "name": "nn-vrs-logreg-sentimentanalysis-v2.ipynb",
      "provenance": [],
      "collapsed_sections": [],
      "include_colab_link": true
    },
    "accelerator": "GPU"
  },
  "cells": [
    {
      "cell_type": "markdown",
      "metadata": {
        "id": "view-in-github",
        "colab_type": "text"
      },
      "source": [
        "<a href=\"https://colab.research.google.com/github/DavidPuigV/Nuclio/blob/main/nn_vrs_logreg_sentimentanalysis_v2.ipynb\" target=\"_parent\"><img src=\"https://colab.research.google.com/assets/colab-badge.svg\" alt=\"Open In Colab\"/></a>"
      ]
    },
    {
      "cell_type": "markdown",
      "metadata": {
        "id": "Cj-g6G-5CtGc"
      },
      "source": [
        "![Nuclio logo](https://nuclio.school/wp-content/uploads/2018/12/nucleoDS-newBlack.png)"
      ]
    },
    {
      "cell_type": "code",
      "metadata": {
        "colab": {
          "base_uri": "https://localhost:8080/"
        },
        "id": "wrTXzR_aXSz6",
        "outputId": "f94f24a7-d39f-4afb-9943-07a5087d76fd"
      },
      "source": [
        "from google.colab import drive\n",
        "drive.mount('/content/drive')"
      ],
      "execution_count": 1,
      "outputs": [
        {
          "output_type": "stream",
          "text": [
            "Mounted at /content/drive\n"
          ],
          "name": "stdout"
        }
      ]
    },
    {
      "cell_type": "markdown",
      "metadata": {
        "id": "Wmjb9FYgCtGr"
      },
      "source": [
        "## Analisis de sentimiento en opiniones de IMDB - LogRes versus NN"
      ]
    },
    {
      "cell_type": "markdown",
      "metadata": {
        "id": "4UjqbX3ACtGs"
      },
      "source": [
        "## 1. Primer bloque - Carguemos las opiniones para aplicar Bag of Words\n",
        "\n",
        "Necesitaremos pandas y el CountVectorizer de sklearn para aplicar bag of words sobre las frases.\n"
      ]
    },
    {
      "cell_type": "code",
      "metadata": {
        "id": "NZPQ_Dv3CtGt"
      },
      "source": [
        "import pandas as pd\n",
        "from sklearn.feature_extraction.text import CountVectorizer # bag of words\n",
        "from sklearn.model_selection import train_test_split\n",
        "from sklearn.model_selection import GridSearchCV\n",
        "import numpy as np\n",
        "import time\n",
        "import datetime"
      ],
      "execution_count": 2,
      "outputs": []
    },
    {
      "cell_type": "markdown",
      "metadata": {
        "id": "Xjm4QgqSCtGu"
      },
      "source": [
        "A cargar datos del archivo imdb_labelled.txt y mostramos su primer valor"
      ]
    },
    {
      "cell_type": "code",
      "metadata": {
        "id": "fnFsGosPCtGu",
        "colab": {
          "base_uri": "https://localhost:8080/"
        },
        "outputId": "a43dddd3-7787-4db8-dc40-1030d1f8e3d3"
      },
      "source": [
        "df = pd.read_csv('imdb_labelled.txt', names=['frases','label'], sep='\\t')\n",
        "print(df.iloc[0])\n",
        "# el 0 sera negativo \n",
        "# el 1 sera positivo"
      ],
      "execution_count": 4,
      "outputs": [
        {
          "output_type": "stream",
          "text": [
            "frases    A very, very, very slow-moving, aimless movie ...\n",
            "label                                                     0\n",
            "Name: 0, dtype: object\n"
          ],
          "name": "stdout"
        }
      ]
    },
    {
      "cell_type": "markdown",
      "metadata": {
        "id": "hXngJF1CCtGx"
      },
      "source": [
        "Una valoración bastante negativa... como podeis ver el label 0 es \"negativo\", así que 1 serà \"positivo\" (analizando el sentimiento de la frase)\n",
        "\n",
        "Preparemos los datos, para tener un test y un train"
      ]
    },
    {
      "cell_type": "code",
      "metadata": {
        "id": "PMrDzBpiCtGy"
      },
      "source": [
        "frases = df['frases'].values\n",
        "y = df['label'].values"
      ],
      "execution_count": 5,
      "outputs": []
    },
    {
      "cell_type": "code",
      "metadata": {
        "id": "dN4sv3XiCtGz"
      },
      "source": [
        "frases_train, frases_test, y_train, y_test = train_test_split(frases, y, test_size=0.25, random_state=1000)"
      ],
      "execution_count": 6,
      "outputs": []
    },
    {
      "cell_type": "markdown",
      "metadata": {
        "id": "_snzD_qUCtGz"
      },
      "source": [
        "Ahora viene el momento de crear nuestro bag of words, para eso usaremos CountVectorizer de sklearn, que lo entrenaremos con las palabras/frases del train y luego aplicaremos a cada set de frases train y test"
      ]
    },
    {
      "cell_type": "code",
      "metadata": {
        "id": "pD6QqeRzCtG0",
        "colab": {
          "base_uri": "https://localhost:8080/"
        },
        "outputId": "57d845f5-6ecf-4f9b-bb14-b6723fc8748f"
      },
      "source": [
        "vectorizador = CountVectorizer() # objetos de ML, aprende de los datasets y aprende\n",
        "vectorizador.fit(frases_train)\n",
        "\n",
        "x_train = vectorizador.transform(frases_train)\n",
        "x_test = vectorizador.transform(frases_test)\n",
        "\n",
        "x_train"
      ],
      "execution_count": 7,
      "outputs": [
        {
          "output_type": "execute_result",
          "data": {
            "text/plain": [
              "<561x2505 sparse matrix of type '<class 'numpy.int64'>'\n",
              "\twith 8413 stored elements in Compressed Sparse Row format>"
            ]
          },
          "metadata": {
            "tags": []
          },
          "execution_count": 7
        }
      ]
    },
    {
      "cell_type": "code",
      "metadata": {
        "id": "MbN2LNvLCtG1",
        "colab": {
          "base_uri": "https://localhost:8080/"
        },
        "outputId": "fc3acf15-627e-4b99-c2b7-76237ffaac7d"
      },
      "source": [
        "print(x_train[0,:]) # primera frase estos son los vectores"
      ],
      "execution_count": 8,
      "outputs": [
        {
          "output_type": "stream",
          "text": [
            "  (0, 360)\t1\n",
            "  (0, 532)\t1\n",
            "  (0, 1532)\t1\n",
            "  (0, 2471)\t1\n"
          ],
          "name": "stdout"
        }
      ]
    },
    {
      "cell_type": "markdown",
      "metadata": {
        "id": "xiBonFeECtG1"
      },
      "source": [
        "## 2. Primer bloque - Regression Logistica con Bag Of Words\n",
        "\n",
        "Para empezar carguemos esas librerias que nos hacen falta"
      ]
    },
    {
      "cell_type": "markdown",
      "metadata": {
        "id": "KoV2DbHSCtG2"
      },
      "source": [
        "### 2.1 Cargamos las librerias para la Regression Logistica y la entrenamos con cross validation buscando el mejor parametro C de la regression logistica"
      ]
    },
    {
      "cell_type": "code",
      "metadata": {
        "id": "0Miz00EfCtG2",
        "colab": {
          "base_uri": "https://localhost:8080/"
        },
        "outputId": "1424652e-be2b-4393-b592-f095a5831c1b"
      },
      "source": [
        "from sklearn.linear_model import LogisticRegression\n",
        "\n",
        "param_grid = {'C': [0.001, 0.01, 0.1, 1, 10]}\n",
        "grid = GridSearchCV(LogisticRegression(), param_grid, cv=5)\n",
        "grid.fit(x_train, y_train)\n",
        "\n",
        "print(\"Best cross-validation score: {:.2f}\".format(grid.best_score_))\n",
        "print(\"Best parameters: \", grid.best_params_)\n",
        "print(\"Best estimator: \", grid.best_estimator_)\n"
      ],
      "execution_count": 9,
      "outputs": [
        {
          "output_type": "stream",
          "text": [
            "Best cross-validation score: 0.74\n",
            "Best parameters:  {'C': 1}\n",
            "Best estimator:  LogisticRegression(C=1, class_weight=None, dual=False, fit_intercept=True,\n",
            "                   intercept_scaling=1, l1_ratio=None, max_iter=100,\n",
            "                   multi_class='auto', n_jobs=None, penalty='l2',\n",
            "                   random_state=None, solver='lbfgs', tol=0.0001, verbose=0,\n",
            "                   warm_start=False)\n"
          ],
          "name": "stdout"
        }
      ]
    },
    {
      "cell_type": "code",
      "metadata": {
        "id": "ywrntU-DCtG2",
        "colab": {
          "base_uri": "https://localhost:8080/"
        },
        "outputId": "25b89a10-1c95-4198-f4ed-544bd6c4420a"
      },
      "source": [
        "lr = grid.best_estimator_\n",
        "lr.fit(x_train, y_train)\n",
        "lr.predict(x_test)\n",
        "\n",
        "score_test = lr.score(x_test, y_test)\n",
        "\n",
        "print('Accuracy for IMDB data in test data: {:.4f}'.format(score_test))\n"
      ],
      "execution_count": 10,
      "outputs": [
        {
          "output_type": "stream",
          "text": [
            "Accuracy for IMDB data in test data: 0.7487\n"
          ],
          "name": "stdout"
        }
      ]
    },
    {
      "cell_type": "markdown",
      "metadata": {
        "id": "ATOc96V7CtG3"
      },
      "source": [
        "## 3.Segundo bloque - Vayamos a por una red neuronal\n",
        "\n",
        "Una red senzilla, por ahora nada de RNN\n",
        "\n",
        "Vamos a por las librerias que necesitamos"
      ]
    },
    {
      "cell_type": "code",
      "metadata": {
        "id": "VjaohrgACtG3"
      },
      "source": [
        "from tensorflow import keras as ks\n",
        "from matplotlib import pyplot as plt"
      ],
      "execution_count": 11,
      "outputs": []
    },
    {
      "cell_type": "markdown",
      "metadata": {
        "id": "0uE9UTJWCtG3"
      },
      "source": [
        "Veamos cuantas dimensiones tengo para la entrada de la primera capa de la red neuronal"
      ]
    },
    {
      "cell_type": "code",
      "metadata": {
        "id": "r7I7-Ns1CtG4",
        "colab": {
          "base_uri": "https://localhost:8080/"
        },
        "outputId": "10572afa-e432-4fa9-acd6-3fd027d1f16a"
      },
      "source": [
        "input_dim = x_train.shape[1]\n",
        "print('Numero dimensiones:', input_dim)"
      ],
      "execution_count": 12,
      "outputs": [
        {
          "output_type": "stream",
          "text": [
            "Numero dimensiones: 2505\n"
          ],
          "name": "stdout"
        }
      ]
    },
    {
      "cell_type": "markdown",
      "metadata": {
        "id": "SF6-UPJ6CtG4"
      },
      "source": [
        "Definimos el modelo de red neuronal"
      ]
    },
    {
      "cell_type": "code",
      "metadata": {
        "id": "bmr_99EWCtG4"
      },
      "source": [
        "model = ks.Sequential()\n",
        "model.add(ks.layers.Dense(512, input_dim=input_dim, activation='relu'))\n",
        "model.add(ks.layers.Dropout(0.6))\n",
        "\n",
        "model.add(ks.layers.Dense(256, activation='relu'))\n",
        "model.add(ks.layers.Dropout(0.5))\n",
        "\n",
        "model.add(ks.layers.Dense(50, activation='relu'))\n",
        "model.add(ks.layers.Dropout(0.3))\n",
        "\n",
        "model.add(ks.layers.Dense(1, activation='sigmoid'))"
      ],
      "execution_count": 29,
      "outputs": []
    },
    {
      "cell_type": "code",
      "metadata": {
        "id": "8kQ6oqKrCtG4",
        "colab": {
          "base_uri": "https://localhost:8080/"
        },
        "outputId": "7de873f3-abc4-4766-b387-77fba9d09728"
      },
      "source": [
        "model.summary()"
      ],
      "execution_count": 30,
      "outputs": [
        {
          "output_type": "stream",
          "text": [
            "Model: \"sequential_3\"\n",
            "_________________________________________________________________\n",
            "Layer (type)                 Output Shape              Param #   \n",
            "=================================================================\n",
            "dense_12 (Dense)             (None, 512)               1283072   \n",
            "_________________________________________________________________\n",
            "dropout_9 (Dropout)          (None, 512)               0         \n",
            "_________________________________________________________________\n",
            "dense_13 (Dense)             (None, 256)               131328    \n",
            "_________________________________________________________________\n",
            "dropout_10 (Dropout)         (None, 256)               0         \n",
            "_________________________________________________________________\n",
            "dense_14 (Dense)             (None, 50)                12850     \n",
            "_________________________________________________________________\n",
            "dropout_11 (Dropout)         (None, 50)                0         \n",
            "_________________________________________________________________\n",
            "dense_15 (Dense)             (None, 1)                 51        \n",
            "=================================================================\n",
            "Total params: 1,427,301\n",
            "Trainable params: 1,427,301\n",
            "Non-trainable params: 0\n",
            "_________________________________________________________________\n"
          ],
          "name": "stdout"
        }
      ]
    },
    {
      "cell_type": "code",
      "metadata": {
        "id": "XDix1UKQCtG5"
      },
      "source": [
        "model.compile(loss='binary_crossentropy', optimizer='Adam', metrics=['accuracy'])"
      ],
      "execution_count": 39,
      "outputs": []
    },
    {
      "cell_type": "markdown",
      "metadata": {
        "id": "4-Vpd548CtG5"
      },
      "source": [
        "Entrenemos el modelo"
      ]
    },
    {
      "cell_type": "code",
      "metadata": {
        "id": "p3rdaXBqCtG5",
        "colab": {
          "base_uri": "https://localhost:8080/"
        },
        "outputId": "0fa61782-0262-4680-fb07-46c34aa45c20"
      },
      "source": [
        "history = model.fit(x_train, y_train, epochs=10, validation_data=(x_test, y_test), batch_size=96)"
      ],
      "execution_count": 40,
      "outputs": [
        {
          "output_type": "stream",
          "text": [
            "Epoch 1/10\n",
            "6/6 [==============================] - 1s 31ms/step - loss: 0.0732 - accuracy: 0.9826 - val_loss: 0.6575 - val_accuracy: 0.7647\n",
            "Epoch 2/10\n",
            "6/6 [==============================] - 0s 9ms/step - loss: 0.0434 - accuracy: 0.9922 - val_loss: 0.7169 - val_accuracy: 0.7701\n",
            "Epoch 3/10\n",
            "6/6 [==============================] - 0s 8ms/step - loss: 0.0415 - accuracy: 0.9944 - val_loss: 1.2891 - val_accuracy: 0.7594\n",
            "Epoch 4/10\n",
            "6/6 [==============================] - 0s 8ms/step - loss: 0.0382 - accuracy: 0.9914 - val_loss: 1.6364 - val_accuracy: 0.7380\n",
            "Epoch 5/10\n",
            "6/6 [==============================] - 0s 8ms/step - loss: 0.0532 - accuracy: 0.9936 - val_loss: 1.1007 - val_accuracy: 0.7647\n",
            "Epoch 6/10\n",
            "6/6 [==============================] - 0s 8ms/step - loss: 0.0077 - accuracy: 0.9992 - val_loss: 1.1063 - val_accuracy: 0.7433\n",
            "Epoch 7/10\n",
            "6/6 [==============================] - 0s 8ms/step - loss: 0.0186 - accuracy: 0.9976 - val_loss: 0.9356 - val_accuracy: 0.7701\n",
            "Epoch 8/10\n",
            "6/6 [==============================] - 0s 10ms/step - loss: 0.0095 - accuracy: 0.9988 - val_loss: 1.3174 - val_accuracy: 0.7647\n",
            "Epoch 9/10\n",
            "6/6 [==============================] - 0s 8ms/step - loss: 0.0061 - accuracy: 1.0000 - val_loss: 1.5665 - val_accuracy: 0.7594\n",
            "Epoch 10/10\n",
            "6/6 [==============================] - 0s 9ms/step - loss: 0.0030 - accuracy: 1.0000 - val_loss: 1.5562 - val_accuracy: 0.7647\n"
          ],
          "name": "stdout"
        }
      ]
    },
    {
      "cell_type": "code",
      "metadata": {
        "id": "0InwhMENCtG6",
        "colab": {
          "base_uri": "https://localhost:8080/",
          "height": 545
        },
        "outputId": "e237ca07-10a6-4557-835c-e7695476a734"
      },
      "source": [
        "plt.title('Cross Entropy Loss')\n",
        "plt.plot(history.history['loss'], color='blue', label='train')\n",
        "plt.plot(history.history['val_loss'], color='orange', label='test')\n",
        "plt.show()\n",
        "\n",
        "plt.title('Classification Accuracy')\n",
        "plt.plot(history.history['accuracy'], color='blue', label='train')\n",
        "plt.plot(history.history['val_accuracy'], color='orange', label='test')\n",
        "plt.show()"
      ],
      "execution_count": 41,
      "outputs": [
        {
          "output_type": "display_data",
          "data": {
            "image/png": "[encoded data removed]",
            "text/plain": [
              "<Figure size 432x288 with 1 Axes>"
            ]
          },
          "metadata": {
            "tags": [],
            "needs_background": "light"
          }
        },
        {
          "output_type": "display_data",
          "data": {
            "image/png": "[encoded data removed]",
            "text/plain": [
              "<Figure size 432x288 with 1 Axes>"
            ]
          },
          "metadata": {
            "tags": [],
            "needs_background": "light"
          }
        }
      ]
    },
    {
      "cell_type": "markdown",
      "metadata": {
        "id": "HTxvDi2MCtG6"
      },
      "source": [
        "Podemos ver que la red neurona apesta bastante, además de que facilmente entra en overfitting... asi que la regression logística, con menos esfuerzo, funciona igual de mal."
      ]
    },
    {
      "cell_type": "code",
      "metadata": {
        "id": "ydKH9hbyCtG6",
        "colab": {
          "base_uri": "https://localhost:8080/"
        },
        "outputId": "7b51f955-7a7e-4e50-8590-99cf6327dd90"
      },
      "source": [
        "_,score_test = model.evaluate(x_test, y_test)\r\n",
        "\r\n",
        "print('Accuracy for IMDB data in test data with NN: {:.4f}'.format(score_test))"
      ],
      "execution_count": 42,
      "outputs": [
        {
          "output_type": "stream",
          "text": [
            "6/6 [==============================] - 0s 3ms/step - loss: 1.5562 - accuracy: 0.7647\n",
            "Accuracy for IMDB data in test data with NN: 0.7647\n"
          ],
          "name": "stdout"
        }
      ]
    },
    {
      "cell_type": "code",
      "metadata": {
        "id": "J-VBF7dDdRRh"
      },
      "source": [
        ""
      ],
      "execution_count": 42,
      "outputs": []
    }
  ]
}