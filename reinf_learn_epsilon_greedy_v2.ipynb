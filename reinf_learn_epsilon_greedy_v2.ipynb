{
  "nbformat": 4,
  "nbformat_minor": 0,
  "metadata": {
    "kernelspec": {
      "display_name": "Python 3",
      "language": "python",
      "name": "python3"
    },
    "language_info": {
      "codemirror_mode": {
        "name": "ipython",
        "version": 3
      },
      "file_extension": ".py",
      "mimetype": "text/x-python",
      "name": "python",
      "nbconvert_exporter": "python",
      "pygments_lexer": "ipython3",
      "version": "3.7.4"
    },
    "colab": {
      "name": "reinf-learn-epsilon-greedy-v2.ipynb",
      "provenance": [],
      "collapsed_sections": [],
      "include_colab_link": true
    }
  },
  "cells": [
    {
      "cell_type": "markdown",
      "metadata": {
        "id": "view-in-github",
        "colab_type": "text"
      },
      "source": [
        "<a href=\"https://colab.research.google.com/github/DavidPuigV/Nuclio/blob/main/reinf_learn_epsilon_greedy_v2.ipynb\" target=\"_parent\"><img src=\"https://colab.research.google.com/assets/colab-badge.svg\" alt=\"Open In Colab\"/></a>"
      ]
    },
    {
      "cell_type": "markdown",
      "metadata": {
        "id": "dGb4PNZYnD27"
      },
      "source": [
        "![Nuclio logo](https://nuclio.school/wp-content/uploads/2018/12/nucleoDS-newBlack.png)"
      ]
    },
    {
      "cell_type": "markdown",
      "metadata": {
        "id": "EMzvJ8ignD3N"
      },
      "source": [
        "# Reinforced Learning con un multi-armed-bandid usando el algoritmo Epsilon-Greedy \n",
        "\n",
        "El primer ejemplo de reinforced learning que vamos a implementar. La idea es que relleneis los campos a partir de lo explicado en la primera parte."
      ]
    },
    {
      "cell_type": "markdown",
      "metadata": {
        "id": "AVG70aWanD3Q"
      },
      "source": [
        "## 1. Cargamos las librerias que necesitamos"
      ]
    },
    {
      "cell_type": "code",
      "metadata": {
        "id": "DDirjpDQnD3R"
      },
      "source": [
        "import numpy as np\n",
        "import matplotlib.pyplot as plt"
      ],
      "execution_count": 12,
      "outputs": []
    },
    {
      "cell_type": "markdown",
      "metadata": {
        "id": "VF1krB1CnD3T"
      },
      "source": [
        "## 2. Inicializamos las variables que queremos usar en el proyecto\n",
        "\n",
        "- Numero de experimentos (pruebas)\n",
        "- Valor de Epsilon\n",
        "- Las probabilidades reales de los bandidos"
      ]
    },
    {
      "cell_type": "code",
      "metadata": {
        "id": "Jq61ErmonD3V"
      },
      "source": [
        "NUM_PRUEBAS = 20000\n",
        "EPS = 0.1\n",
        "PROBABILIDADES_BANDIDOS = [0.2 , 0.5, 0.75] "
      ],
      "execution_count": 13,
      "outputs": []
    },
    {
      "cell_type": "markdown",
      "metadata": {
        "id": "ByY82f90nD3W"
      },
      "source": [
        "El primer bandido es el peor de todos, es decir, conseguiremos ganar dinero (recordad que son tragaperras) solo un 20% de las veces, cosa que el resto de bandidos son mejores"
      ]
    },
    {
      "cell_type": "markdown",
      "metadata": {
        "id": "06ssWcaCnD3X"
      },
      "source": [
        "## 3. Definimos nuestra clase Bandido (la tragaperra)\n",
        "\n",
        "Va a tener tres metodos: \n",
        "* El de creación **\\_\\_init\\_\\_** donde definiremos su ratio de exito (p), la media almacenada tras cada experimento (p_estimada), y el número total de veces que le hemos dado a la palanca (N)\n",
        "* El de **ejecución** del experimento .pull() donde calculamos un valor random más la media\n",
        "* El de **actualización** de los valores en caso de exito o fracaso en el experimento"
      ]
    },
    {
      "cell_type": "code",
      "metadata": {
        "id": "sjwe5M94nD3Y"
      },
      "source": [
        "class Bandit:\n",
        "    def __init__(self, p):\n",
        "        # Ratio de exito\n",
        "        self.p = p\n",
        "        # Media almacenada del ratio de exito de cada pull/experimento en un bandido\n",
        "        self.p_estimada = 2 # TODO\n",
        "        # Numero de pulls/experimentos en este bandido\n",
        "        self.N = 0. #TODO\n",
        "    \n",
        "    def pull(self):\n",
        "        # Devolvemos un 1 con una probabilidad p (distribucion de Bernouilli)\n",
        "        return np.random.random() < self.p\n",
        "    \n",
        "    def update(self, x):\n",
        "        # Actualizamos los valores de mean y N, es decir, la media acumulada de exito, más el número de experimentos\n",
        "        # Añadimos un experimento al bandido\n",
        "        self.N += 1 #TODO (sin el += 1)\n",
        "        \n",
        "        # Recalculamos la media del bandido (tras desarrollar la regla de la media)\n",
        "        self.p_estimada = ((self.N - 1)*self.p_estimada + x) / self.N #TODO \n",
        "        "
      ],
      "execution_count": 14,
      "outputs": []
    },
    {
      "cell_type": "markdown",
      "metadata": {
        "id": "SzAAeBKhnD3a"
      },
      "source": [
        "## 4. Definimos el experimento\n",
        "La funcion de realizar el experimento basada en el metodo epsilon-codicioso\n",
        "\n",
        "* Creamos la lista de bandits a partir de los datos iniciales\n",
        "* Almacenamos el número de premios entregados\n",
        "* Inicializamos los contadores de ejecuciones de experimentos\n",
        "\n",
        "Arrancamos un bucle sobre el número de experimentos usando el pseudo-codigo de Epsilon-Greedy\n",
        "\n",
        "* Aplicamos el algoritmo para saber si exploramos o explotamos\n",
        "* Las veces que acertamos el bandido de mejor probabilidad (el optimo)\n",
        "* Tiramos de la palanca del bandit escogido\n",
        "* Actualizamos las recompensas de ese bandit\n",
        "* Almacenamos sus datos\n",
        "\n",
        "Luego pintamos la evolución en el tiempo de las ejecuciones\n"
      ]
    },
    {
      "cell_type": "code",
      "metadata": {
        "id": "wIbYw7LXnD3b"
      },
      "source": [
        "def run_experiment():\n",
        "    \n",
        "    #Genero las tres tragaperras, los bandidos\n",
        "    bandits = [Bandit(p) for p in PROBABILIDADES_BANDIDOS]\n",
        "    \n",
        "    #Genero un array vacío para la recolección de resultados\n",
        "    premios = np.zeros(NUM_PRUEBAS)\n",
        "    \n",
        "    #Inicializo los contadores de ejecuciones de experimentos\n",
        "    num_times_explored = 0\n",
        "    num_times_exploited = 0\n",
        "    num_optimal = 0\n",
        "\n",
        "    optimal_j = np.argmax([b.p for b in bandits])\n",
        "\n",
        "    \n",
        "       \n",
        "    for i in range(NUM_PRUEBAS): # este es mejor si el valor esta bien escogido algoritmo Optimistic Initial Values\n",
        "\n",
        "        # Hago para cada experimento un pase de la tecnica epsilon codicioso\n",
        "      \n",
        "        if np.random.random() < EPS:\n",
        "            # Si la probabilidad aleatoria está por debajo de Epsilon, accionaremos una tragaperras aleatoriamente\n",
        "            num_times_explored += 1\n",
        "            jbandit = np.random.randint(len(bandits)) #TODO\n",
        "        else:\n",
        "            # En caso contrario, escogeremos la tragaperra con mayor mean de todas\n",
        "            num_times_exploited += 1\n",
        "            jbandit = np.argmax([b.p_estimada for b in bandits]) #TODO\n",
        "        \n",
        "        if jbandit == optimal_j:\n",
        "            num_optimal += 1\n",
        "        \n",
        "        # Con tragaperra escogida, le damos a la palanca haciendo un pull\n",
        "        x = bandits[jbandit].pull()\n",
        "        \n",
        "        # Actualizamos el valor de la media de esa misma tragaperra\n",
        "        bandits[jbandit].update(x)\n",
        "        \n",
        "        # Almacenamos los datos para montar una grafica de evolución en el tiempo\n",
        "        premios[i] = x\n",
        "    \n",
        "    # Calculamos la media acumulada de todos los experimentos\n",
        "    ratio_exito = np.cumsum(premios) / (np.arange(NUM_PRUEBAS)+1)\n",
        "    \n",
        "    # Veamos los resultados\n",
        "    print(\"Total recompensas conseguidas:\", premios.sum())\n",
        "    print(\"Media del ratio de exito:\", premios.sum() / NUM_PRUEBAS)\n",
        "    print(\"Total veces explorado:\", num_times_explored)\n",
        "    print(\"Total veces explotado:\", num_times_exploited)\n",
        "    \n",
        "    # Número de veces que hemos explotado cada Bandit\n",
        "    for b in bandits:\n",
        "        print(\"Bandit con probabilidad real \", b.p ,\" se ha explotado :\", b.N)\n",
        "    \n",
        "    # Pintamos los resultados\n",
        "    plt.plot(ratio_exito)\n",
        "    plt.plot(np.ones(NUM_PRUEBAS)*np.max(PROBABILIDADES_BANDIDOS))\n",
        "    plt.xscale('log')\n",
        "    plt.show()\n",
        "    \n",
        "    # Imprimimos el resultado en pantalla\n",
        "    for b in bandits:\n",
        "        print(\"Media Estimada de Exito:\", b.p_estimada)\n"
      ],
      "execution_count": 15,
      "outputs": []
    },
    {
      "cell_type": "markdown",
      "metadata": {
        "id": "NjdgNwZenD3d"
      },
      "source": [
        "## 5. Parte principal del programa\n",
        "Donde ejecutamos los tres experimentos"
      ]
    },
    {
      "cell_type": "code",
      "metadata": {
        "colab": {
          "base_uri": "https://localhost:8080/",
          "height": 443
        },
        "id": "dEVUzv7CnD3h",
        "outputId": "de2426b3-80d7-42de-9f98-e73dc49c106b"
      },
      "source": [
        "\n",
        "# Parte principal del programa\n",
        "if __name__ == '__main__':\n",
        "    \n",
        "    # Ejecutamos tres experimentos con distintos Epsilon\n",
        "    run_experiment()"
      ],
      "execution_count": 16,
      "outputs": [
        {
          "output_type": "stream",
          "text": [
            "Total recompensas conseguidas: 14497.0\n",
            "Media del ratio de exito: 0.72485\n",
            "Total veces explorado: 1962\n",
            "Total veces explotado: 18038\n",
            "Bandit con probabilidad real  0.2  se ha explotado : 635.0\n",
            "Bandit con probabilidad real  0.5  se ha explotado : 675.0\n",
            "Bandit con probabilidad real  0.75  se ha explotado : 18690.0\n"
          ],
          "name": "stdout"
        },
        {
          "output_type": "display_data",
          "data": {
            "image/png": "[encoded data removed]",
            "text/plain": [
              "<Figure size 432x288 with 1 Axes>"
            ]
          },
          "metadata": {
            "tags": [],
            "needs_background": "light"
          }
        },
        {
          "output_type": "stream",
          "text": [
            "Media Estimada de Exito: 0.2251968503937008\n",
            "Media Estimada de Exito: 0.5170370370370364\n",
            "Media Estimada de Exito: 0.7493311931514186\n"
          ],
          "name": "stdout"
        }
      ]
    },
    {
      "cell_type": "code",
      "metadata": {
        "id": "wllEqZXFnD3n"
      },
      "source": [
        ""
      ],
      "execution_count": 16,
      "outputs": []
    }
  ]
}