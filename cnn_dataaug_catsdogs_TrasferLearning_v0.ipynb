{
  "nbformat": 4,
  "nbformat_minor": 0,
  "metadata": {
    "accelerator": "GPU",
    "colab": {
      "name": "cnn-dataaug-catsdogs-TrasferLearning_v0.ipynb",
      "provenance": [],
      "collapsed_sections": [],
      "toc_visible": true,
      "include_colab_link": true
    },
    "kernelspec": {
      "display_name": "Python 3",
      "language": "python",
      "name": "python3"
    },
    "language_info": {
      "codemirror_mode": {
        "name": "ipython",
        "version": 3
      },
      "file_extension": ".py",
      "mimetype": "text/x-python",
      "name": "python",
      "nbconvert_exporter": "python",
      "pygments_lexer": "ipython3",
      "version": "3.7.4"
    }
  },
  "cells": [
    {
      "cell_type": "markdown",
      "metadata": {
        "id": "view-in-github",
        "colab_type": "text"
      },
      "source": [
        "<a href=\"https://colab.research.google.com/github/DavidPuigV/Nuclio/blob/main/cnn_dataaug_catsdogs_TrasferLearning_v0.ipynb\" target=\"_parent\"><img src=\"https://colab.research.google.com/assets/colab-badge.svg\" alt=\"Open In Colab\"/></a>"
      ]
    },
    {
      "cell_type": "markdown",
      "metadata": {
        "id": "p5UMi6C6KyEI"
      },
      "source": [
        ""
      ]
    },
    {
      "cell_type": "markdown",
      "metadata": {
        "id": "xULjVynfIMip"
      },
      "source": [
        "![Nuclio logo](https://nuclio.school/wp-content/uploads/2018/12/nucleoDS-newBlack.png)"
      ]
    },
    {
      "cell_type": "markdown",
      "metadata": {
        "id": "kswWzeShIMiq"
      },
      "source": [
        "## 1. Conectemonos a Google Drive y preparemos los datos\n",
        "\n",
        "Los datos los podeis encontrar en esta URL de Google Drive\n",
        "https://drive.google.com/open?id=1cCjzuanxmL15vz0xVt1BsFL1tBZZD0ox\n",
        "\n",
        "Movedlos a vuestro Drive!!"
      ]
    },
    {
      "cell_type": "code",
      "metadata": {
        "colab": {
          "base_uri": "https://localhost:8080/"
        },
        "id": "P12a4C2vzZL4",
        "outputId": "40e105e5-5e97-4058-8d44-898285bcfc65"
      },
      "source": [
        "from google.colab import drive\n",
        "drive.mount('/content/drive')"
      ],
      "execution_count": 1,
      "outputs": [
        {
          "output_type": "stream",
          "text": [
            "Drive already mounted at /content/drive; to attempt to forcibly remount, call drive.mount(\"/content/drive\", force_remount=True).\n"
          ],
          "name": "stdout"
        }
      ]
    },
    {
      "cell_type": "markdown",
      "metadata": {
        "id": "ZIVsM2ZsIMiw"
      },
      "source": [
        "## 2. Librerias\n",
        "\n",
        "Para empezar carguemos esas librerias que nos hacen falta"
      ]
    },
    {
      "cell_type": "code",
      "metadata": {
        "_cell_guid": "b1076dfc-b9ad-4769-8c92-a6c4dae69d19",
        "_uuid": "8f2839f25d086af736a60e9eeb907d3b93b6e0e5",
        "id": "tMmwJ-ZEoz3P"
      },
      "source": [
        "import numpy as np\n",
        "import matplotlib.pyplot as plt\n",
        "import random\n",
        "import pandas as pd\n",
        "import os\n",
        "\n",
        "from tensorflow import keras as ks\n",
        "from tensorflow.keras.preprocessing.image import ImageDataGenerator, load_img\n",
        "from keras.utils import to_categorical\n",
        "from tensorflow.keras.callbacks import EarlyStopping\n",
        "from tensorflow.keras.regularizers import l2"
      ],
      "execution_count": 2,
      "outputs": []
    },
    {
      "cell_type": "markdown",
      "metadata": {
        "id": "8LYPneYfoz3i"
      },
      "source": [
        "## 3. Definimos algunas constantes"
      ]
    },
    {
      "cell_type": "code",
      "metadata": {
        "id": "n1_noICIoz3j"
      },
      "source": [
        "ANCHO_IMAGEN=150\n",
        "ALTURA_IMAGEN=150\n",
        "IMAGE_SIZE=(ANCHO_IMAGEN, ALTURA_IMAGEN)\n",
        "CANALES_IMAGENES=3\n",
        "ruta = '/content/drive/MyDrive/NUCLIO/Dogs-vs-cats/'"
      ],
      "execution_count": 3,
      "outputs": []
    },
    {
      "cell_type": "markdown",
      "metadata": {
        "_uuid": "7335a579cc0268fba5d34d6f7558f33c187eedb3",
        "id": "ex_xAKguoz3n"
      },
      "source": [
        "## 4. Preparamos los datos de entrenamiento\n",
        "\n",
        "Los cargaremos del formato NPZ que comentamos en la última clase, y que tenemos en el Drive\n",
        "\n"
      ]
    },
    {
      "cell_type": "code",
      "metadata": {
        "_cell_guid": "79c7e3d0-c299-4dcb-8224-4455121ee9b0",
        "_uuid": "d629ff2d2480ee46fbb7e2d37f6b5fab8052498a",
        "id": "z-eYrcixoz3o"
      },
      "source": [
        "dict_npz = np.load(ruta+'xy_train_img.npz')\n",
        "x_train_img = dict_npz['x']\n",
        "y_train_img = dict_npz['y']\n",
        "\n",
        "dict_npz = np.load(ruta+'xy_test_img.npz')\n",
        "x_test_img = dict_npz['x']\n",
        "y_test_img = dict_npz['y']\n",
        "\n",
        "dict_npz = np.load(ruta+'xy_val_img.npz')\n",
        "x_val_img = dict_npz['x']\n",
        "y_val_img = dict_npz['y']\n",
        "\n",
        "x_train_scaled = x_train_img / 255.\n",
        "x_test_scaled = x_test_img / 255.\n",
        "x_val_scaled = x_val_img / 255."
      ],
      "execution_count": 4,
      "outputs": []
    },
    {
      "cell_type": "code",
      "metadata": {
        "_uuid": "915bb9ba7063ab4d5c07c542419ae119003a5f98",
        "colab": {
          "base_uri": "https://localhost:8080/"
        },
        "id": "owVl2D5Voz3s",
        "outputId": "8a47cdbd-1315-48d8-d844-d3bbc31377be"
      },
      "source": [
        "print(\"Tamaño X train:\", x_train_scaled.shape)\r\n",
        "print(\"Tamaño Y train:\", y_train_img.shape)\r\n",
        "\r\n",
        "print(\"Tamaño X test:\", x_test_scaled.shape)\r\n",
        "print(\"Tamaño Y test:\", y_test_img.shape)\r\n",
        "\r\n",
        "print(\"Tamaño X val:\", x_val_scaled.shape)\r\n",
        "print(\"Tamaño Y val:\", y_val_img.shape)\r\n",
        "\r\n"
      ],
      "execution_count": 5,
      "outputs": [
        {
          "output_type": "stream",
          "text": [
            "Tamaño X train: (2916, 150, 150, 3)\n",
            "Tamaño Y train: (2916,)\n",
            "Tamaño X test: (989, 150, 150, 3)\n",
            "Tamaño Y test: (989,)\n",
            "Tamaño X val: (988, 150, 150, 3)\n",
            "Tamaño Y val: (988,)\n"
          ],
          "name": "stdout"
        }
      ]
    },
    {
      "cell_type": "markdown",
      "metadata": {
        "_uuid": "a999484fc35b73373fafe2253ae9db7ff46fdb90",
        "id": "3eWnz7Uioz32"
      },
      "source": [
        "## 5. Exploremos los datos"
      ]
    },
    {
      "cell_type": "code",
      "metadata": {
        "_uuid": "fa26f0bc7a6d835a24989790b20f3c6f32946f45",
        "colab": {
          "base_uri": "https://localhost:8080/",
          "height": 291
        },
        "id": "xvjKCJDYoz32",
        "outputId": "89872171-69c9-443f-944b-7d6169a9987b"
      },
      "source": [
        "df_train = pd.DataFrame(y_train_img, columns=['category'])\r\n",
        "df_train['category'].value_counts().plot.bar()"
      ],
      "execution_count": 6,
      "outputs": [
        {
          "output_type": "execute_result",
          "data": {
            "text/plain": [
              "<matplotlib.axes._subplots.AxesSubplot at 0x7f6de537c6a0>"
            ]
          },
          "metadata": {
            "tags": []
          },
          "execution_count": 6
        },
        {
          "output_type": "display_data",
          "data": {
            "image/png": "[encoded data removed]",
            "text/plain": [
              "<Figure size 432x288 with 1 Axes>"
            ]
          },
          "metadata": {
            "tags": [],
            "needs_background": "light"
          }
        }
      ]
    },
    {
      "cell_type": "markdown",
      "metadata": {
        "_uuid": "3a08da58107777a1dd05c4a4bf5c484484923cac",
        "id": "Hqzssxq7oz37"
      },
      "source": [
        "Como podemos ver tenemos 1458 ejemplos de cada clase... poquito para ser una red neuronal para vision por computador... ya vereis..."
      ]
    },
    {
      "cell_type": "markdown",
      "metadata": {
        "_uuid": "400a293df3c8499059d9175f3915187074efd971",
        "id": "3-gXqKRzoz38"
      },
      "source": [
        "## 6. Pintemos una imagen"
      ]
    },
    {
      "cell_type": "code",
      "metadata": {
        "_uuid": "602b40f7353871cb161c60b5237f0da0096b2f47",
        "colab": {
          "base_uri": "https://localhost:8080/",
          "height": 286
        },
        "id": "2hwgI2aVoz39",
        "outputId": "2e4da469-5aba-481a-a5c2-7ac4435d429f"
      },
      "source": [
        "sample = random.choice(range(0,1457))\n",
        "image = x_train_scaled[sample]\n",
        "plt.imshow(image, cmap=plt.cm.binary)"
      ],
      "execution_count": 7,
      "outputs": [
        {
          "output_type": "execute_result",
          "data": {
            "text/plain": [
              "<matplotlib.image.AxesImage at 0x7f6de4e54358>"
            ]
          },
          "metadata": {
            "tags": []
          },
          "execution_count": 7
        },
        {
          "output_type": "display_data",
          "data": {
            "image/png": "[encoded data removed]",
            "text/plain": [
              "<Figure size 432x288 with 1 Axes>"
            ]
          },
          "metadata": {
            "tags": [],
            "needs_background": "light"
          }
        }
      ]
    },
    {
      "cell_type": "markdown",
      "metadata": {
        "_uuid": "b244e6b7715a04fc6df92dd6dfa3d35c473ca600",
        "id": "oCEFBfkWoz4B"
      },
      "source": [
        "## 7. Apilemos bloques para hacer el modelo\n",
        "\n",
        "<img src=\"https://i.imgur.com/ebkMGGu.jpg\" width=\"100%\"/>"
      ]
    },
    {
      "cell_type": "code",
      "metadata": {
        "id": "IcAxArBte--S"
      },
      "source": [
        "from tensorflow.keras.applications import vgg16\r\n",
        "from tensorflow.keras.models import Model"
      ],
      "execution_count": 8,
      "outputs": []
    },
    {
      "cell_type": "markdown",
      "metadata": {
        "id": "11yi-bWefK5A"
      },
      "source": [
        "## 7.1 Vamos a cargar la parte de extraccion de features de vgg16"
      ]
    },
    {
      "cell_type": "code",
      "metadata": {
        "colab": {
          "base_uri": "https://localhost:8080/"
        },
        "id": "CeQ_JHOKfQEH",
        "outputId": "ce11cccd-d43e-417f-961e-5f4f996b912c"
      },
      "source": [
        "vgg = vgg16.VGG16(include_top=False, weights= 'imagenet', input_shape=(ANCHO_IMAGEN, ALTURA_IMAGEN, CANALES_IMAGENES))\r\n",
        "vgg.summary()"
      ],
      "execution_count": 9,
      "outputs": [
        {
          "output_type": "stream",
          "text": [
            "Model: \"vgg16\"\n",
            "_________________________________________________________________\n",
            "Layer (type)                 Output Shape              Param #   \n",
            "=================================================================\n",
            "input_1 (InputLayer)         [(None, 150, 150, 3)]     0         \n",
            "_________________________________________________________________\n",
            "block1_conv1 (Conv2D)        (None, 150, 150, 64)      1792      \n",
            "_________________________________________________________________\n",
            "block1_conv2 (Conv2D)        (None, 150, 150, 64)      36928     \n",
            "_________________________________________________________________\n",
            "block1_pool (MaxPooling2D)   (None, 75, 75, 64)        0         \n",
            "_________________________________________________________________\n",
            "block2_conv1 (Conv2D)        (None, 75, 75, 128)       73856     \n",
            "_________________________________________________________________\n",
            "block2_conv2 (Conv2D)        (None, 75, 75, 128)       147584    \n",
            "_________________________________________________________________\n",
            "block2_pool (MaxPooling2D)   (None, 37, 37, 128)       0         \n",
            "_________________________________________________________________\n",
            "block3_conv1 (Conv2D)        (None, 37, 37, 256)       295168    \n",
            "_________________________________________________________________\n",
            "block3_conv2 (Conv2D)        (None, 37, 37, 256)       590080    \n",
            "_________________________________________________________________\n",
            "block3_conv3 (Conv2D)        (None, 37, 37, 256)       590080    \n",
            "_________________________________________________________________\n",
            "block3_pool (MaxPooling2D)   (None, 18, 18, 256)       0         \n",
            "_________________________________________________________________\n",
            "block4_conv1 (Conv2D)        (None, 18, 18, 512)       1180160   \n",
            "_________________________________________________________________\n",
            "block4_conv2 (Conv2D)        (None, 18, 18, 512)       2359808   \n",
            "_________________________________________________________________\n",
            "block4_conv3 (Conv2D)        (None, 18, 18, 512)       2359808   \n",
            "_________________________________________________________________\n",
            "block4_pool (MaxPooling2D)   (None, 9, 9, 512)         0         \n",
            "_________________________________________________________________\n",
            "block5_conv1 (Conv2D)        (None, 9, 9, 512)         2359808   \n",
            "_________________________________________________________________\n",
            "block5_conv2 (Conv2D)        (None, 9, 9, 512)         2359808   \n",
            "_________________________________________________________________\n",
            "block5_conv3 (Conv2D)        (None, 9, 9, 512)         2359808   \n",
            "_________________________________________________________________\n",
            "block5_pool (MaxPooling2D)   (None, 4, 4, 512)         0         \n",
            "=================================================================\n",
            "Total params: 14,714,688\n",
            "Trainable params: 14,714,688\n",
            "Non-trainable params: 0\n",
            "_________________________________________________________________\n"
          ],
          "name": "stdout"
        }
      ]
    },
    {
      "cell_type": "code",
      "metadata": {
        "id": "2XxJvniqgtM5"
      },
      "source": [
        "# necesito añadir el flatten despues de estas capas y despues procesar mis datos en mi red de clasificacion\r\n",
        "# antes tengo que tener claro como va a ser la salida\r\n",
        "# podemos acceder a las capas con el metodo layers, estan numeradas\r\n",
        "# sacamos el objeto de definicion de mi output de mi ultima capa\r\n",
        "def_output = vgg.layers[-1].output\r\n",
        "\r\n",
        "# haremos el flatten layer, un modelo de unica capa.\r\n",
        "new_flatten_layer = ks.layers.Flatten()(def_output)\r\n",
        "# no puedo hacer summary porque flatten no es n modelo es solo una capa"
      ],
      "execution_count": 10,
      "outputs": []
    },
    {
      "cell_type": "code",
      "metadata": {
        "colab": {
          "base_uri": "https://localhost:8080/"
        },
        "id": "NI44iUmih1vx",
        "outputId": "58dca2be-0a42-4230-facd-2d4b9418ba9a"
      },
      "source": [
        "# juntamos modelo de imagenet y nuestra capa flatten\r\n",
        "# y ya tenemos la red para entrenar !!!!\r\n",
        "vgg_model = Model(vgg.input, new_flatten_layer)\r\n",
        "vgg_model.summary()"
      ],
      "execution_count": 11,
      "outputs": [
        {
          "output_type": "stream",
          "text": [
            "Model: \"model\"\n",
            "_________________________________________________________________\n",
            "Layer (type)                 Output Shape              Param #   \n",
            "=================================================================\n",
            "input_1 (InputLayer)         [(None, 150, 150, 3)]     0         \n",
            "_________________________________________________________________\n",
            "block1_conv1 (Conv2D)        (None, 150, 150, 64)      1792      \n",
            "_________________________________________________________________\n",
            "block1_conv2 (Conv2D)        (None, 150, 150, 64)      36928     \n",
            "_________________________________________________________________\n",
            "block1_pool (MaxPooling2D)   (None, 75, 75, 64)        0         \n",
            "_________________________________________________________________\n",
            "block2_conv1 (Conv2D)        (None, 75, 75, 128)       73856     \n",
            "_________________________________________________________________\n",
            "block2_conv2 (Conv2D)        (None, 75, 75, 128)       147584    \n",
            "_________________________________________________________________\n",
            "block2_pool (MaxPooling2D)   (None, 37, 37, 128)       0         \n",
            "_________________________________________________________________\n",
            "block3_conv1 (Conv2D)        (None, 37, 37, 256)       295168    \n",
            "_________________________________________________________________\n",
            "block3_conv2 (Conv2D)        (None, 37, 37, 256)       590080    \n",
            "_________________________________________________________________\n",
            "block3_conv3 (Conv2D)        (None, 37, 37, 256)       590080    \n",
            "_________________________________________________________________\n",
            "block3_pool (MaxPooling2D)   (None, 18, 18, 256)       0         \n",
            "_________________________________________________________________\n",
            "block4_conv1 (Conv2D)        (None, 18, 18, 512)       1180160   \n",
            "_________________________________________________________________\n",
            "block4_conv2 (Conv2D)        (None, 18, 18, 512)       2359808   \n",
            "_________________________________________________________________\n",
            "block4_conv3 (Conv2D)        (None, 18, 18, 512)       2359808   \n",
            "_________________________________________________________________\n",
            "block4_pool (MaxPooling2D)   (None, 9, 9, 512)         0         \n",
            "_________________________________________________________________\n",
            "block5_conv1 (Conv2D)        (None, 9, 9, 512)         2359808   \n",
            "_________________________________________________________________\n",
            "block5_conv2 (Conv2D)        (None, 9, 9, 512)         2359808   \n",
            "_________________________________________________________________\n",
            "block5_conv3 (Conv2D)        (None, 9, 9, 512)         2359808   \n",
            "_________________________________________________________________\n",
            "block5_pool (MaxPooling2D)   (None, 4, 4, 512)         0         \n",
            "_________________________________________________________________\n",
            "flatten (Flatten)            (None, 8192)              0         \n",
            "=================================================================\n",
            "Total params: 14,714,688\n",
            "Trainable params: 14,714,688\n",
            "Non-trainable params: 0\n",
            "_________________________________________________________________\n"
          ],
          "name": "stdout"
        }
      ]
    },
    {
      "cell_type": "code",
      "metadata": {
        "colab": {
          "base_uri": "https://localhost:8080/",
          "height": 669
        },
        "id": "mHNDtKqYiXig",
        "outputId": "94954009-e74f-4ca2-f0c8-b0316d011e92"
      },
      "source": [
        "import pandas as pd\r\n",
        "\r\n",
        "pd.set_option('max_colwidth', None)\r\n",
        "\r\n",
        "layers = [(layer, layer.name, layer.trainable) for layer in vgg_model.layers]\r\n",
        "pd.DataFrame(layers, columns=['layer Type', 'Layer Name','Trainable?'])"
      ],
      "execution_count": 12,
      "outputs": [
        {
          "output_type": "execute_result",
          "data": {
            "text/html": [
              "<div>\n",
              "<style scoped>\n",
              "    .dataframe tbody tr th:only-of-type {\n",
              "        vertical-align: middle;\n",
              "    }\n",
              "\n",
              "    .dataframe tbody tr th {\n",
              "        vertical-align: top;\n",
              "    }\n",
              "\n",
              "    .dataframe thead th {\n",
              "        text-align: right;\n",
              "    }\n",
              "</style>\n",
              "<table border=\"1\" class=\"dataframe\">\n",
              "  <thead>\n",
              "    <tr style=\"text-align: right;\">\n",
              "      <th></th>\n",
              "      <th>layer Type</th>\n",
              "      <th>Layer Name</th>\n",
              "      <th>Trainable?</th>\n",
              "    </tr>\n",
              "  </thead>\n",
              "  <tbody>\n",
              "    <tr>\n",
              "      <th>0</th>\n",
              "      <td>&lt;tensorflow.python.keras.engine.input_layer.InputLayer object at 0x7f6de4e1be10&gt;</td>\n",
              "      <td>input_1</td>\n",
              "      <td>True</td>\n",
              "    </tr>\n",
              "    <tr>\n",
              "      <th>1</th>\n",
              "      <td>&lt;tensorflow.python.keras.layers.convolutional.Conv2D object at 0x7f6de4dfed30&gt;</td>\n",
              "      <td>block1_conv1</td>\n",
              "      <td>True</td>\n",
              "    </tr>\n",
              "    <tr>\n",
              "      <th>2</th>\n",
              "      <td>&lt;tensorflow.python.keras.layers.convolutional.Conv2D object at 0x7f6de4e54da0&gt;</td>\n",
              "      <td>block1_conv2</td>\n",
              "      <td>True</td>\n",
              "    </tr>\n",
              "    <tr>\n",
              "      <th>3</th>\n",
              "      <td>&lt;tensorflow.python.keras.layers.pooling.MaxPooling2D object at 0x7f6dd02c5dd8&gt;</td>\n",
              "      <td>block1_pool</td>\n",
              "      <td>True</td>\n",
              "    </tr>\n",
              "    <tr>\n",
              "      <th>4</th>\n",
              "      <td>&lt;tensorflow.python.keras.layers.convolutional.Conv2D object at 0x7f6dd02cda20&gt;</td>\n",
              "      <td>block2_conv1</td>\n",
              "      <td>True</td>\n",
              "    </tr>\n",
              "    <tr>\n",
              "      <th>5</th>\n",
              "      <td>&lt;tensorflow.python.keras.layers.convolutional.Conv2D object at 0x7f6dd02c5a20&gt;</td>\n",
              "      <td>block2_conv2</td>\n",
              "      <td>True</td>\n",
              "    </tr>\n",
              "    <tr>\n",
              "      <th>6</th>\n",
              "      <td>&lt;tensorflow.python.keras.layers.pooling.MaxPooling2D object at 0x7f6dd02dd7f0&gt;</td>\n",
              "      <td>block2_pool</td>\n",
              "      <td>True</td>\n",
              "    </tr>\n",
              "    <tr>\n",
              "      <th>7</th>\n",
              "      <td>&lt;tensorflow.python.keras.layers.convolutional.Conv2D object at 0x7f6dd02e4748&gt;</td>\n",
              "      <td>block3_conv1</td>\n",
              "      <td>True</td>\n",
              "    </tr>\n",
              "    <tr>\n",
              "      <th>8</th>\n",
              "      <td>&lt;tensorflow.python.keras.layers.convolutional.Conv2D object at 0x7f6dd02e44a8&gt;</td>\n",
              "      <td>block3_conv2</td>\n",
              "      <td>True</td>\n",
              "    </tr>\n",
              "    <tr>\n",
              "      <th>9</th>\n",
              "      <td>&lt;tensorflow.python.keras.layers.convolutional.Conv2D object at 0x7f6dd02d56a0&gt;</td>\n",
              "      <td>block3_conv3</td>\n",
              "      <td>True</td>\n",
              "    </tr>\n",
              "    <tr>\n",
              "      <th>10</th>\n",
              "      <td>&lt;tensorflow.python.keras.layers.pooling.MaxPooling2D object at 0x7f6dd02ee588&gt;</td>\n",
              "      <td>block3_pool</td>\n",
              "      <td>True</td>\n",
              "    </tr>\n",
              "    <tr>\n",
              "      <th>11</th>\n",
              "      <td>&lt;tensorflow.python.keras.layers.convolutional.Conv2D object at 0x7f6dd02eeac8&gt;</td>\n",
              "      <td>block4_conv1</td>\n",
              "      <td>True</td>\n",
              "    </tr>\n",
              "    <tr>\n",
              "      <th>12</th>\n",
              "      <td>&lt;tensorflow.python.keras.layers.convolutional.Conv2D object at 0x7f6dd02e8240&gt;</td>\n",
              "      <td>block4_conv2</td>\n",
              "      <td>True</td>\n",
              "    </tr>\n",
              "    <tr>\n",
              "      <th>13</th>\n",
              "      <td>&lt;tensorflow.python.keras.layers.convolutional.Conv2D object at 0x7f6dd02f6f98&gt;</td>\n",
              "      <td>block4_conv3</td>\n",
              "      <td>True</td>\n",
              "    </tr>\n",
              "    <tr>\n",
              "      <th>14</th>\n",
              "      <td>&lt;tensorflow.python.keras.layers.pooling.MaxPooling2D object at 0x7f6dd02fc668&gt;</td>\n",
              "      <td>block4_pool</td>\n",
              "      <td>True</td>\n",
              "    </tr>\n",
              "    <tr>\n",
              "      <th>15</th>\n",
              "      <td>&lt;tensorflow.python.keras.layers.convolutional.Conv2D object at 0x7f6dd02f63c8&gt;</td>\n",
              "      <td>block5_conv1</td>\n",
              "      <td>True</td>\n",
              "    </tr>\n",
              "    <tr>\n",
              "      <th>16</th>\n",
              "      <td>&lt;tensorflow.python.keras.layers.convolutional.Conv2D object at 0x7f6dd0284d68&gt;</td>\n",
              "      <td>block5_conv2</td>\n",
              "      <td>True</td>\n",
              "    </tr>\n",
              "    <tr>\n",
              "      <th>17</th>\n",
              "      <td>&lt;tensorflow.python.keras.layers.convolutional.Conv2D object at 0x7f6dd0291470&gt;</td>\n",
              "      <td>block5_conv3</td>\n",
              "      <td>True</td>\n",
              "    </tr>\n",
              "    <tr>\n",
              "      <th>18</th>\n",
              "      <td>&lt;tensorflow.python.keras.layers.pooling.MaxPooling2D object at 0x7f6dd0291908&gt;</td>\n",
              "      <td>block5_pool</td>\n",
              "      <td>True</td>\n",
              "    </tr>\n",
              "    <tr>\n",
              "      <th>19</th>\n",
              "      <td>&lt;tensorflow.python.keras.layers.core.Flatten object at 0x7f6dd0297710&gt;</td>\n",
              "      <td>flatten</td>\n",
              "      <td>True</td>\n",
              "    </tr>\n",
              "  </tbody>\n",
              "</table>\n",
              "</div>"
            ],
            "text/plain": [
              "                                                                          layer Type  ... Trainable?\n",
              "0   <tensorflow.python.keras.engine.input_layer.InputLayer object at 0x7f6de4e1be10>  ...       True\n",
              "1     <tensorflow.python.keras.layers.convolutional.Conv2D object at 0x7f6de4dfed30>  ...       True\n",
              "2     <tensorflow.python.keras.layers.convolutional.Conv2D object at 0x7f6de4e54da0>  ...       True\n",
              "3     <tensorflow.python.keras.layers.pooling.MaxPooling2D object at 0x7f6dd02c5dd8>  ...       True\n",
              "4     <tensorflow.python.keras.layers.convolutional.Conv2D object at 0x7f6dd02cda20>  ...       True\n",
              "5     <tensorflow.python.keras.layers.convolutional.Conv2D object at 0x7f6dd02c5a20>  ...       True\n",
              "6     <tensorflow.python.keras.layers.pooling.MaxPooling2D object at 0x7f6dd02dd7f0>  ...       True\n",
              "7     <tensorflow.python.keras.layers.convolutional.Conv2D object at 0x7f6dd02e4748>  ...       True\n",
              "8     <tensorflow.python.keras.layers.convolutional.Conv2D object at 0x7f6dd02e44a8>  ...       True\n",
              "9     <tensorflow.python.keras.layers.convolutional.Conv2D object at 0x7f6dd02d56a0>  ...       True\n",
              "10    <tensorflow.python.keras.layers.pooling.MaxPooling2D object at 0x7f6dd02ee588>  ...       True\n",
              "11    <tensorflow.python.keras.layers.convolutional.Conv2D object at 0x7f6dd02eeac8>  ...       True\n",
              "12    <tensorflow.python.keras.layers.convolutional.Conv2D object at 0x7f6dd02e8240>  ...       True\n",
              "13    <tensorflow.python.keras.layers.convolutional.Conv2D object at 0x7f6dd02f6f98>  ...       True\n",
              "14    <tensorflow.python.keras.layers.pooling.MaxPooling2D object at 0x7f6dd02fc668>  ...       True\n",
              "15    <tensorflow.python.keras.layers.convolutional.Conv2D object at 0x7f6dd02f63c8>  ...       True\n",
              "16    <tensorflow.python.keras.layers.convolutional.Conv2D object at 0x7f6dd0284d68>  ...       True\n",
              "17    <tensorflow.python.keras.layers.convolutional.Conv2D object at 0x7f6dd0291470>  ...       True\n",
              "18    <tensorflow.python.keras.layers.pooling.MaxPooling2D object at 0x7f6dd0291908>  ...       True\n",
              "19            <tensorflow.python.keras.layers.core.Flatten object at 0x7f6dd0297710>  ...       True\n",
              "\n",
              "[20 rows x 3 columns]"
            ]
          },
          "metadata": {
            "tags": []
          },
          "execution_count": 12
        }
      ]
    },
    {
      "cell_type": "code",
      "metadata": {
        "colab": {
          "base_uri": "https://localhost:8080/"
        },
        "id": "QXu_S0i8jB6q",
        "outputId": "622957de-09c5-4b8b-be53-7bbe53abf234"
      },
      "source": [
        "# la red entera es entrenable???\r\n",
        "print(vgg_model.trainable)   "
      ],
      "execution_count": 13,
      "outputs": [
        {
          "output_type": "stream",
          "text": [
            "True\n"
          ],
          "name": "stdout"
        }
      ]
    },
    {
      "cell_type": "code",
      "metadata": {
        "id": "SZ-BzWDfjLXB"
      },
      "source": [
        "# Queremos todo en entraenable False\r\n",
        "vgg_model.trainable=False\r\n",
        "\r\n",
        "for layer in vgg_model.layers:\r\n",
        "  layer.trainable = False"
      ],
      "execution_count": 14,
      "outputs": []
    },
    {
      "cell_type": "code",
      "metadata": {
        "colab": {
          "base_uri": "https://localhost:8080/",
          "height": 669
        },
        "id": "C1udyXhUjoSA",
        "outputId": "5d2c0b95-adbd-42f7-e125-076f40f693b2"
      },
      "source": [
        "\r\n",
        "layers = [(layer, layer.name, layer.trainable) for layer in vgg_model.layers]\r\n",
        "pd.DataFrame(layers, columns=['layer Type', 'Layer Name','Trainable?'])"
      ],
      "execution_count": 15,
      "outputs": [
        {
          "output_type": "execute_result",
          "data": {
            "text/html": [
              "<div>\n",
              "<style scoped>\n",
              "    .dataframe tbody tr th:only-of-type {\n",
              "        vertical-align: middle;\n",
              "    }\n",
              "\n",
              "    .dataframe tbody tr th {\n",
              "        vertical-align: top;\n",
              "    }\n",
              "\n",
              "    .dataframe thead th {\n",
              "        text-align: right;\n",
              "    }\n",
              "</style>\n",
              "<table border=\"1\" class=\"dataframe\">\n",
              "  <thead>\n",
              "    <tr style=\"text-align: right;\">\n",
              "      <th></th>\n",
              "      <th>layer Type</th>\n",
              "      <th>Layer Name</th>\n",
              "      <th>Trainable?</th>\n",
              "    </tr>\n",
              "  </thead>\n",
              "  <tbody>\n",
              "    <tr>\n",
              "      <th>0</th>\n",
              "      <td>&lt;tensorflow.python.keras.engine.input_layer.InputLayer object at 0x7f6de4e1be10&gt;</td>\n",
              "      <td>input_1</td>\n",
              "      <td>False</td>\n",
              "    </tr>\n",
              "    <tr>\n",
              "      <th>1</th>\n",
              "      <td>&lt;tensorflow.python.keras.layers.convolutional.Conv2D object at 0x7f6de4dfed30&gt;</td>\n",
              "      <td>block1_conv1</td>\n",
              "      <td>False</td>\n",
              "    </tr>\n",
              "    <tr>\n",
              "      <th>2</th>\n",
              "      <td>&lt;tensorflow.python.keras.layers.convolutional.Conv2D object at 0x7f6de4e54da0&gt;</td>\n",
              "      <td>block1_conv2</td>\n",
              "      <td>False</td>\n",
              "    </tr>\n",
              "    <tr>\n",
              "      <th>3</th>\n",
              "      <td>&lt;tensorflow.python.keras.layers.pooling.MaxPooling2D object at 0x7f6dd02c5dd8&gt;</td>\n",
              "      <td>block1_pool</td>\n",
              "      <td>False</td>\n",
              "    </tr>\n",
              "    <tr>\n",
              "      <th>4</th>\n",
              "      <td>&lt;tensorflow.python.keras.layers.convolutional.Conv2D object at 0x7f6dd02cda20&gt;</td>\n",
              "      <td>block2_conv1</td>\n",
              "      <td>False</td>\n",
              "    </tr>\n",
              "    <tr>\n",
              "      <th>5</th>\n",
              "      <td>&lt;tensorflow.python.keras.layers.convolutional.Conv2D object at 0x7f6dd02c5a20&gt;</td>\n",
              "      <td>block2_conv2</td>\n",
              "      <td>False</td>\n",
              "    </tr>\n",
              "    <tr>\n",
              "      <th>6</th>\n",
              "      <td>&lt;tensorflow.python.keras.layers.pooling.MaxPooling2D object at 0x7f6dd02dd7f0&gt;</td>\n",
              "      <td>block2_pool</td>\n",
              "      <td>False</td>\n",
              "    </tr>\n",
              "    <tr>\n",
              "      <th>7</th>\n",
              "      <td>&lt;tensorflow.python.keras.layers.convolutional.Conv2D object at 0x7f6dd02e4748&gt;</td>\n",
              "      <td>block3_conv1</td>\n",
              "      <td>False</td>\n",
              "    </tr>\n",
              "    <tr>\n",
              "      <th>8</th>\n",
              "      <td>&lt;tensorflow.python.keras.layers.convolutional.Conv2D object at 0x7f6dd02e44a8&gt;</td>\n",
              "      <td>block3_conv2</td>\n",
              "      <td>False</td>\n",
              "    </tr>\n",
              "    <tr>\n",
              "      <th>9</th>\n",
              "      <td>&lt;tensorflow.python.keras.layers.convolutional.Conv2D object at 0x7f6dd02d56a0&gt;</td>\n",
              "      <td>block3_conv3</td>\n",
              "      <td>False</td>\n",
              "    </tr>\n",
              "    <tr>\n",
              "      <th>10</th>\n",
              "      <td>&lt;tensorflow.python.keras.layers.pooling.MaxPooling2D object at 0x7f6dd02ee588&gt;</td>\n",
              "      <td>block3_pool</td>\n",
              "      <td>False</td>\n",
              "    </tr>\n",
              "    <tr>\n",
              "      <th>11</th>\n",
              "      <td>&lt;tensorflow.python.keras.layers.convolutional.Conv2D object at 0x7f6dd02eeac8&gt;</td>\n",
              "      <td>block4_conv1</td>\n",
              "      <td>False</td>\n",
              "    </tr>\n",
              "    <tr>\n",
              "      <th>12</th>\n",
              "      <td>&lt;tensorflow.python.keras.layers.convolutional.Conv2D object at 0x7f6dd02e8240&gt;</td>\n",
              "      <td>block4_conv2</td>\n",
              "      <td>False</td>\n",
              "    </tr>\n",
              "    <tr>\n",
              "      <th>13</th>\n",
              "      <td>&lt;tensorflow.python.keras.layers.convolutional.Conv2D object at 0x7f6dd02f6f98&gt;</td>\n",
              "      <td>block4_conv3</td>\n",
              "      <td>False</td>\n",
              "    </tr>\n",
              "    <tr>\n",
              "      <th>14</th>\n",
              "      <td>&lt;tensorflow.python.keras.layers.pooling.MaxPooling2D object at 0x7f6dd02fc668&gt;</td>\n",
              "      <td>block4_pool</td>\n",
              "      <td>False</td>\n",
              "    </tr>\n",
              "    <tr>\n",
              "      <th>15</th>\n",
              "      <td>&lt;tensorflow.python.keras.layers.convolutional.Conv2D object at 0x7f6dd02f63c8&gt;</td>\n",
              "      <td>block5_conv1</td>\n",
              "      <td>False</td>\n",
              "    </tr>\n",
              "    <tr>\n",
              "      <th>16</th>\n",
              "      <td>&lt;tensorflow.python.keras.layers.convolutional.Conv2D object at 0x7f6dd0284d68&gt;</td>\n",
              "      <td>block5_conv2</td>\n",
              "      <td>False</td>\n",
              "    </tr>\n",
              "    <tr>\n",
              "      <th>17</th>\n",
              "      <td>&lt;tensorflow.python.keras.layers.convolutional.Conv2D object at 0x7f6dd0291470&gt;</td>\n",
              "      <td>block5_conv3</td>\n",
              "      <td>False</td>\n",
              "    </tr>\n",
              "    <tr>\n",
              "      <th>18</th>\n",
              "      <td>&lt;tensorflow.python.keras.layers.pooling.MaxPooling2D object at 0x7f6dd0291908&gt;</td>\n",
              "      <td>block5_pool</td>\n",
              "      <td>False</td>\n",
              "    </tr>\n",
              "    <tr>\n",
              "      <th>19</th>\n",
              "      <td>&lt;tensorflow.python.keras.layers.core.Flatten object at 0x7f6dd0297710&gt;</td>\n",
              "      <td>flatten</td>\n",
              "      <td>False</td>\n",
              "    </tr>\n",
              "  </tbody>\n",
              "</table>\n",
              "</div>"
            ],
            "text/plain": [
              "                                                                          layer Type  ... Trainable?\n",
              "0   <tensorflow.python.keras.engine.input_layer.InputLayer object at 0x7f6de4e1be10>  ...      False\n",
              "1     <tensorflow.python.keras.layers.convolutional.Conv2D object at 0x7f6de4dfed30>  ...      False\n",
              "2     <tensorflow.python.keras.layers.convolutional.Conv2D object at 0x7f6de4e54da0>  ...      False\n",
              "3     <tensorflow.python.keras.layers.pooling.MaxPooling2D object at 0x7f6dd02c5dd8>  ...      False\n",
              "4     <tensorflow.python.keras.layers.convolutional.Conv2D object at 0x7f6dd02cda20>  ...      False\n",
              "5     <tensorflow.python.keras.layers.convolutional.Conv2D object at 0x7f6dd02c5a20>  ...      False\n",
              "6     <tensorflow.python.keras.layers.pooling.MaxPooling2D object at 0x7f6dd02dd7f0>  ...      False\n",
              "7     <tensorflow.python.keras.layers.convolutional.Conv2D object at 0x7f6dd02e4748>  ...      False\n",
              "8     <tensorflow.python.keras.layers.convolutional.Conv2D object at 0x7f6dd02e44a8>  ...      False\n",
              "9     <tensorflow.python.keras.layers.convolutional.Conv2D object at 0x7f6dd02d56a0>  ...      False\n",
              "10    <tensorflow.python.keras.layers.pooling.MaxPooling2D object at 0x7f6dd02ee588>  ...      False\n",
              "11    <tensorflow.python.keras.layers.convolutional.Conv2D object at 0x7f6dd02eeac8>  ...      False\n",
              "12    <tensorflow.python.keras.layers.convolutional.Conv2D object at 0x7f6dd02e8240>  ...      False\n",
              "13    <tensorflow.python.keras.layers.convolutional.Conv2D object at 0x7f6dd02f6f98>  ...      False\n",
              "14    <tensorflow.python.keras.layers.pooling.MaxPooling2D object at 0x7f6dd02fc668>  ...      False\n",
              "15    <tensorflow.python.keras.layers.convolutional.Conv2D object at 0x7f6dd02f63c8>  ...      False\n",
              "16    <tensorflow.python.keras.layers.convolutional.Conv2D object at 0x7f6dd0284d68>  ...      False\n",
              "17    <tensorflow.python.keras.layers.convolutional.Conv2D object at 0x7f6dd0291470>  ...      False\n",
              "18    <tensorflow.python.keras.layers.pooling.MaxPooling2D object at 0x7f6dd0291908>  ...      False\n",
              "19            <tensorflow.python.keras.layers.core.Flatten object at 0x7f6dd0297710>  ...      False\n",
              "\n",
              "[20 rows x 3 columns]"
            ]
          },
          "metadata": {
            "tags": []
          },
          "execution_count": 15
        }
      ]
    },
    {
      "cell_type": "markdown",
      "metadata": {
        "id": "VGbXfyJJsrx-"
      },
      "source": [
        "## 7.2 Pre-procesado hasta el cuello de botella"
      ]
    },
    {
      "cell_type": "code",
      "metadata": {
        "id": "x5oLigr-kahX"
      },
      "source": [
        "def llevar_cuello_botella(model, input_imgs):\r\n",
        "  features = model.predict(input_imgs, verbose=0)\r\n",
        "  return features\r\n",
        "  "
      ],
      "execution_count": 16,
      "outputs": []
    },
    {
      "cell_type": "code",
      "metadata": {
        "id": "SDQBNsVMk2dz"
      },
      "source": [
        "x_train_post_vgg = llevar_cuello_botella(vgg_model, x_train_scaled)\r\n",
        "x_test_post_vgg = llevar_cuello_botella(vgg_model, x_test_scaled)\r\n",
        "x_val_post_vgg = llevar_cuello_botella(vgg_model, x_val_scaled)"
      ],
      "execution_count": 17,
      "outputs": []
    },
    {
      "cell_type": "code",
      "metadata": {
        "colab": {
          "base_uri": "https://localhost:8080/"
        },
        "id": "J9l6F2CJloD_",
        "outputId": "0c67e47b-7951-4792-f079-46d69cf447f4"
      },
      "source": [
        "x_train_post_vgg.shape"
      ],
      "execution_count": 18,
      "outputs": [
        {
          "output_type": "execute_result",
          "data": {
            "text/plain": [
              "(2916, 8192)"
            ]
          },
          "metadata": {
            "tags": []
          },
          "execution_count": 18
        }
      ]
    },
    {
      "cell_type": "markdown",
      "metadata": {
        "id": "jkTcZxwLlMWS"
      },
      "source": [
        "## 7.3 Montamos red de clasificacion"
      ]
    },
    {
      "cell_type": "code",
      "metadata": {
        "colab": {
          "base_uri": "https://localhost:8080/"
        },
        "id": "nJw_mdfmlx6W",
        "outputId": "66ce5563-27e7-4b71-c83f-58fa2a7bf4ad"
      },
      "source": [
        "input_shape = vgg_model.output_shape[1]\r\n",
        "print(input_shape)"
      ],
      "execution_count": 19,
      "outputs": [
        {
          "output_type": "stream",
          "text": [
            "8192\n"
          ],
          "name": "stdout"
        }
      ]
    },
    {
      "cell_type": "code",
      "metadata": {
        "_uuid": "8c9f833c1441b657c779844912d0b8028218d454",
        "id": "RwIlNswdoz4E",
        "colab": {
          "base_uri": "https://localhost:8080/"
        },
        "outputId": "81a40928-904b-42fd-bc32-71e5c483cb30"
      },
      "source": [
        "# ya sabemos el shape\n",
        "# vamos a montar nuestra red de clasificacion de modo secuencial\n",
        "model_post_vgg = ks.Sequential()\n",
        "\n",
        "# metemos una mini capa que define el input layer\n",
        "model_post_vgg.add(ks.layers.InputLayer(input_shape=(input_shape,)))\n",
        "\n",
        "# aqui tambien ponemos la input_sahpe solo la primera capa\n",
        "model_post_vgg.add(ks.layers.Dense(512, activation='relu',input_shape=(input_shape,)))\n",
        "model_post_vgg.add(ks.layers.Dropout(0.3))\n",
        "model_post_vgg.add(ks.layers.Dense(512, activation='relu'))\n",
        "model_post_vgg.add(ks.layers.Dropout(0.3))\n",
        "model_post_vgg.add(ks.layers.Dense(1, activation='sigmoid')) # 1 de salida porque tenemos dos valores posibles 0 o 1 (tras aplicar un label encoder a dog y cat)\n",
        "\n",
        "model_post_vgg.summary()"
      ],
      "execution_count": 20,
      "outputs": [
        {
          "output_type": "stream",
          "text": [
            "Model: \"sequential\"\n",
            "_________________________________________________________________\n",
            "Layer (type)                 Output Shape              Param #   \n",
            "=================================================================\n",
            "dense (Dense)                (None, 512)               4194816   \n",
            "_________________________________________________________________\n",
            "dropout (Dropout)            (None, 512)               0         \n",
            "_________________________________________________________________\n",
            "dense_1 (Dense)              (None, 512)               262656    \n",
            "_________________________________________________________________\n",
            "dropout_1 (Dropout)          (None, 512)               0         \n",
            "_________________________________________________________________\n",
            "dense_2 (Dense)              (None, 1)                 513       \n",
            "=================================================================\n",
            "Total params: 4,457,985\n",
            "Trainable params: 4,457,985\n",
            "Non-trainable params: 0\n",
            "_________________________________________________________________\n"
          ],
          "name": "stdout"
        }
      ]
    },
    {
      "cell_type": "markdown",
      "metadata": {
        "id": "oUWzg0-hnesq"
      },
      "source": [
        "## 8. Montemos el optimizador compilando el modelo\n"
      ]
    },
    {
      "cell_type": "code",
      "metadata": {
        "id": "J3XFSpbcnd3M"
      },
      "source": [
        "model_post_vgg.compile(loss='binary_crossentropy', optimizer='Adam', metrics=['accuracy'])"
      ],
      "execution_count": 30,
      "outputs": []
    },
    {
      "cell_type": "markdown",
      "metadata": {
        "_uuid": "bd496f6c65888a969be3703135b0b03a8a1190c8",
        "id": "FjqQRO0Voz4I"
      },
      "source": [
        "## 9. Definamos un callback para el Early Stopping"
      ]
    },
    {
      "cell_type": "markdown",
      "metadata": {
        "_uuid": "76c9ba4fb7f930c96b2c3e0d6b68ed9fa6a4227b",
        "id": "kBF3ly91oz4P"
      },
      "source": [
        "**Early Stopping**\n",
        "\n",
        "Prevenimos el sobre ajuste parando cuando tras 10 epochs y el error de la validacion no decrementa (estamos en una plateau)"
      ]
    },
    {
      "cell_type": "code",
      "metadata": {
        "_uuid": "3421c5ec428da6c0d8cc1184179a9caff1e01d1c",
        "id": "tvAN5_48oz4Q"
      },
      "source": [
        "callback_val_loss = EarlyStopping(monitor=\"val_loss\", patience=5)\n",
        "callback_val_accuracy = EarlyStopping(monitor=\"val_accuracy\", patience=10)"
      ],
      "execution_count": 31,
      "outputs": []
    },
    {
      "cell_type": "markdown",
      "metadata": {
        "id": "YycSloTfoz4Z"
      },
      "source": [
        "## 10. Preparamos los datos"
      ]
    },
    {
      "cell_type": "markdown",
      "metadata": {
        "id": "wIE5IV7voz4a"
      },
      "source": [
        "Haremos un one-hote encoding que nos va a ir bien para nuestra clasificación"
      ]
    },
    {
      "cell_type": "code",
      "metadata": {
        "id": "GpngtNKUxV3v",
        "colab": {
          "base_uri": "https://localhost:8080/"
        },
        "outputId": "c7f7ac8d-453e-47d7-8f71-8cb424fd5004"
      },
      "source": [
        "y_train_img"
      ],
      "execution_count": 32,
      "outputs": [
        {
          "output_type": "execute_result",
          "data": {
            "text/plain": [
              "array(['dog', 'cat', 'dog', ..., 'dog', 'dog', 'cat'], dtype='<U3')"
            ]
          },
          "metadata": {
            "tags": []
          },
          "execution_count": 32
        }
      ]
    },
    {
      "cell_type": "code",
      "metadata": {
        "id": "Q9darYNr97B1"
      },
      "source": [
        "from sklearn.preprocessing import LabelEncoder\r\n",
        "\r\n",
        "le = LabelEncoder()\r\n",
        "le.fit(y_train_img)\r\n",
        "y_train_encoded = le.transform(y_train_img)\r\n",
        "y_val_encoded = le.transform(y_val_img)\r\n",
        "y_test_encoded = le.transform(y_test_img)"
      ],
      "execution_count": 33,
      "outputs": []
    },
    {
      "cell_type": "code",
      "metadata": {
        "id": "rnqC3rm--O0o",
        "colab": {
          "base_uri": "https://localhost:8080/"
        },
        "outputId": "4665de2e-5c3f-4d61-8b38-50b10ba6b8d2"
      },
      "source": [
        "y_train_encoded"
      ],
      "execution_count": 34,
      "outputs": [
        {
          "output_type": "execute_result",
          "data": {
            "text/plain": [
              "array([1, 0, 1, ..., 1, 1, 0])"
            ]
          },
          "metadata": {
            "tags": []
          },
          "execution_count": 34
        }
      ]
    },
    {
      "cell_type": "markdown",
      "metadata": {
        "_uuid": "ff760be9104f7d9492467b8d9d3405011aa77d11",
        "id": "DmgPnBdWoz4u"
      },
      "source": [
        "## 11. Transformador de imagenes a datos consumibles por la red neuronal\n",
        "\n",
        "**De entrenamiento**\n",
        "\n",
        "Aquí incluiremos nuestra parte de generación de imagenes (con código de partida)"
      ]
    },
    {
      "cell_type": "code",
      "metadata": {
        "_uuid": "4d1c7818703a8a4bac5c036fdea45972aa9e5e9e",
        "id": "Nlxz_DO7oz4v"
      },
      "source": [
        "train_datagen = ImageDataGenerator(\n",
        "    rescale=1./255,\n",
        "    )\n",
        "\n",
        "train_generator = train_datagen.flow(\n",
        "    x_train_img, \n",
        "    y_train_encoded, \n",
        "    batch_size=30\n",
        ")"
      ],
      "execution_count": 35,
      "outputs": []
    },
    {
      "cell_type": "markdown",
      "metadata": {
        "_uuid": "859c7b2857939c19fd2e3bb32839c9f7deb5aa3f",
        "id": "e7qjyLM-oz4y"
      },
      "source": [
        "**De validacion y de testeo**\n",
        "\n",
        "Fijaos que aquí la única modificación es un re-escalado, nada de modificaciones"
      ]
    },
    {
      "cell_type": "code",
      "metadata": {
        "_uuid": "7925e16bcacc89f4484fb6fe47e54d6420af732e",
        "id": "HpWcatHOoz4z"
      },
      "source": [
        "validation_datagen = ImageDataGenerator(\n",
        "    rescale=1./255\n",
        "    )\n",
        "validation_generator = validation_datagen.flow(\n",
        "    x_val_img, \n",
        "    y_val_encoded, \n",
        "    batch_size=20\n",
        ")\n",
        "\n",
        "test_datagen = ImageDataGenerator(\n",
        "    rescale=1./255\n",
        "    )\n",
        "test_generator = test_datagen.flow(\n",
        "    x_test_img, \n",
        "    y_test_encoded,\n",
        "    batch_size=20\n",
        ")"
      ],
      "execution_count": 36,
      "outputs": []
    },
    {
      "cell_type": "markdown",
      "metadata": {
        "_uuid": "810ddf1373d9db470ed48da4f30ca5a6c1274435",
        "id": "WRT9BikCoz4-"
      },
      "source": [
        "No tiene mala pinta!!"
      ]
    },
    {
      "cell_type": "markdown",
      "metadata": {
        "id": "oIEMYd471wV8"
      },
      "source": [
        "## 12. Veamos que pinta tiene el generador de datos\r\n",
        "\r\n",
        "A rellenar para ver que nos da el generadord de imagenes nuevas"
      ]
    },
    {
      "cell_type": "code",
      "metadata": {
        "id": "4v0izLCV1346"
      },
      "source": [
        ""
      ],
      "execution_count": 36,
      "outputs": []
    },
    {
      "cell_type": "code",
      "metadata": {
        "id": "XZsGvzQ213CL"
      },
      "source": [
        ""
      ],
      "execution_count": 36,
      "outputs": []
    },
    {
      "cell_type": "markdown",
      "metadata": {
        "_uuid": "5cd8df64e794ed17de326b613a9819e7da977a0e",
        "id": "cT4ohS-ioz4_"
      },
      "source": [
        "## 13. Entrenemos el modelo!"
      ]
    },
    {
      "cell_type": "code",
      "metadata": {
        "_uuid": "0836a4cc8aa0abf603e0f96573c0c4ff383ad56b",
        "id": "xgh5rr0doz5A",
        "colab": {
          "base_uri": "https://localhost:8080/"
        },
        "outputId": "6d88fc38-d0c5-4673-f95a-7450cc41fccf"
      },
      "source": [
        "epochs = 200\n",
        "\n",
        "history = model_post_vgg.fit(x_train_post_vgg, y_train_encoded, epochs=epochs, validation_data=(x_val_post_vgg, y_val_encoded), batch_size=64, callbacks=[callback_val_loss, callback_val_accuracy])"
      ],
      "execution_count": 37,
      "outputs": [
        {
          "output_type": "stream",
          "text": [
            "Epoch 1/200\n",
            "46/46 [==============================] - 1s 10ms/step - loss: 1.0910 - accuracy: 0.6090 - val_loss: 0.3006 - val_accuracy: 0.8755\n",
            "Epoch 2/200\n",
            "46/46 [==============================] - 0s 6ms/step - loss: 0.2893 - accuracy: 0.8760 - val_loss: 0.2588 - val_accuracy: 0.8785\n",
            "Epoch 3/200\n",
            "46/46 [==============================] - 0s 6ms/step - loss: 0.2242 - accuracy: 0.9088 - val_loss: 0.2433 - val_accuracy: 0.8887\n",
            "Epoch 4/200\n",
            "46/46 [==============================] - 0s 6ms/step - loss: 0.1684 - accuracy: 0.9233 - val_loss: 0.2716 - val_accuracy: 0.8897\n",
            "Epoch 5/200\n",
            "46/46 [==============================] - 0s 9ms/step - loss: 0.1330 - accuracy: 0.9504 - val_loss: 0.3850 - val_accuracy: 0.8745\n",
            "Epoch 6/200\n",
            "46/46 [==============================] - 0s 6ms/step - loss: 0.0933 - accuracy: 0.9685 - val_loss: 0.3398 - val_accuracy: 0.8856\n",
            "Epoch 7/200\n",
            "46/46 [==============================] - 0s 6ms/step - loss: 0.0763 - accuracy: 0.9699 - val_loss: 0.3697 - val_accuracy: 0.8887\n",
            "Epoch 8/200\n",
            "46/46 [==============================] - 0s 6ms/step - loss: 0.0706 - accuracy: 0.9761 - val_loss: 0.3258 - val_accuracy: 0.8897\n"
          ],
          "name": "stdout"
        }
      ]
    },
    {
      "cell_type": "markdown",
      "metadata": {
        "_uuid": "aa1fbc4081ae0de2993188b2bf658a0be5bc0687",
        "id": "A6Uio2wgoz5D"
      },
      "source": [
        "## 14. Guardemos el modelo"
      ]
    },
    {
      "cell_type": "code",
      "metadata": {
        "_uuid": "67575a4decdaf79a915d23151626b784ffa82642",
        "id": "Wv8k1cSeoz5E"
      },
      "source": [
        "model_post_vgg.save(ruta+'model_with_TL_finetunning.h5')"
      ],
      "execution_count": 38,
      "outputs": []
    },
    {
      "cell_type": "markdown",
      "metadata": {
        "_uuid": "1b76c0a9040bc0babf0a453e567e41e22f8a1e0e",
        "id": "7CWxAqsOoz5H"
      },
      "source": [
        "## 15. Veamos los resultados"
      ]
    },
    {
      "cell_type": "code",
      "metadata": {
        "_uuid": "79055f2dc3e2abb47bea758e0464c86ca42ab431",
        "id": "if5uxIKkoz5I",
        "colab": {
          "base_uri": "https://localhost:8080/",
          "height": 545
        },
        "outputId": "973f20ca-81f0-422a-a0fe-3ee1cf257f90"
      },
      "source": [
        "plt.title('Cross Entropy Loss')\n",
        "plt.plot(history.history['loss'], color='blue', label='train')\n",
        "plt.plot(history.history['val_loss'], color='orange', label='test')\n",
        "plt.show()\n",
        "\n",
        "plt.title('Classification Accuracy')\n",
        "plt.plot(history.history['accuracy'], color='blue', label='train')\n",
        "plt.plot(history.history['val_accuracy'], color='orange', label='test')\n",
        "plt.show()"
      ],
      "execution_count": 39,
      "outputs": [
        {
          "output_type": "display_data",
          "data": {
            "image/png": "[encoded data removed]",
            "text/plain": [
              "<Figure size 432x288 with 1 Axes>"
            ]
          },
          "metadata": {
            "tags": [],
            "needs_background": "light"
          }
        },
        {
          "output_type": "display_data",
          "data": {
            "image/png": "[encoded data removed]",
            "text/plain": [
              "<Figure size 432x288 with 1 Axes>"
            ]
          },
          "metadata": {
            "tags": [],
            "needs_background": "light"
          }
        }
      ]
    },
    {
      "cell_type": "code",
      "metadata": {
        "id": "PEtAd5Xwp1_y",
        "colab": {
          "base_uri": "https://localhost:8080/"
        },
        "outputId": "6a9813e2-de4b-41b5-b0fe-529ecd576c35"
      },
      "source": [
        "_, acc = model_post_vgg.evaluate(x_test_post_vgg, y_test_encoded, verbose=0)\r\n",
        "print('Modelocon Batch Norlmalization n > %.3f' % (acc * 100.0))"
      ],
      "execution_count": 40,
      "outputs": [
        {
          "output_type": "stream",
          "text": [
            "Modelocon Batch Norlmalization n > 89.383\n"
          ],
          "name": "stdout"
        }
      ]
    }
  ]
}