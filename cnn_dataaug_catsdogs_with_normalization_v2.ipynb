{
  "nbformat": 4,
  "nbformat_minor": 0,
  "metadata": {
    "accelerator": "GPU",
    "colab": {
      "name": "cnn-dataaug-catsdogs-with-normalization-v2.ipynb",
      "provenance": [],
      "collapsed_sections": [],
      "include_colab_link": true
    },
    "kernelspec": {
      "name": "python3",
      "display_name": "Python 3.9.0 64-bit",
      "metadata": {
        "interpreter": {
          "hash": "63bbee2618d5ad25095f2454e691e6caaf22586ae2d6d9e7a8914ed4dda6fd83"
        }
      }
    },
    "language_info": {
      "codemirror_mode": {
        "name": "ipython",
        "version": 3
      },
      "file_extension": ".py",
      "mimetype": "text/x-python",
      "name": "python",
      "nbconvert_exporter": "python",
      "pygments_lexer": "ipython3",
      "version": "3.9.0-final"
    }
  },
  "cells": [
    {
      "cell_type": "markdown",
      "metadata": {
        "id": "view-in-github",
        "colab_type": "text"
      },
      "source": [
        "<a href=\"https://colab.research.google.com/github/DavidPuigV/Nuclio/blob/main/cnn_dataaug_catsdogs_with_normalization_v2.ipynb\" target=\"_parent\"><img src=\"https://colab.research.google.com/assets/colab-badge.svg\" alt=\"Open In Colab\"/></a>"
      ]
    },
    {
      "cell_type": "markdown",
      "metadata": {
        "id": "p5UMi6C6KyEI"
      },
      "source": [
        ""
      ]
    },
    {
      "cell_type": "markdown",
      "metadata": {
        "id": "xULjVynfIMip"
      },
      "source": [
        "![Nuclio logo](https://nuclio.school/wp-content/uploads/2018/12/nucleoDS-newBlack.png)"
      ]
    },
    {
      "cell_type": "markdown",
      "metadata": {
        "id": "kswWzeShIMiq"
      },
      "source": [
        "## 1. Conectemonos a Google Drive y preparemos los datos\n",
        "\n",
        "Los datos los podeis encontrar en esta URL de Google Drive\n",
        "https://drive.google.com/open?id=1cCjzuanxmL15vz0xVt1BsFL1tBZZD0ox\n",
        "\n",
        "Movedlos a vuestro Drive!!"
      ]
    },
    {
      "cell_type": "code",
      "metadata": {
        "colab": {
          "base_uri": "https://localhost:8080/"
        },
        "id": "P12a4C2vzZL4",
        "outputId": "507cf568-d748-41b6-8cdf-f82252b6f036"
      },
      "source": [
        "from google.colab import drive\n",
        "drive.mount('/content/drive')"
      ],
      "execution_count": 1,
      "outputs": [
        {
          "output_type": "stream",
          "text": [
            "Mounted at /content/drive\n"
          ],
          "name": "stdout"
        }
      ]
    },
    {
      "cell_type": "markdown",
      "metadata": {
        "id": "ZIVsM2ZsIMiw"
      },
      "source": [
        "## 2. Librerias\n",
        "\n",
        "Para empezar carguemos esas librerias que nos hacen falta"
      ]
    },
    {
      "cell_type": "code",
      "metadata": {
        "_cell_guid": "b1076dfc-b9ad-4769-8c92-a6c4dae69d19",
        "_uuid": "8f2839f25d086af736a60e9eeb907d3b93b6e0e5",
        "id": "tMmwJ-ZEoz3P"
      },
      "source": [
        "import numpy as np\n",
        "import matplotlib.pyplot as plt\n",
        "import random\n",
        "import pandas as pd\n",
        "import os\n",
        "\n",
        "from tensorflow import keras as ks\n",
        "from tensorflow.keras.preprocessing.image import ImageDataGenerator, load_img\n",
        "from keras.utils import to_categorical\n",
        "from tensorflow.keras.callbacks import EarlyStopping\n",
        "from tensorflow.keras.regularizers import l2"
      ],
      "execution_count": 2,
      "outputs": []
    },
    {
      "cell_type": "markdown",
      "metadata": {
        "id": "8LYPneYfoz3i"
      },
      "source": [
        "## 3. Definimos algunas constantes"
      ]
    },
    {
      "cell_type": "code",
      "metadata": {
        "id": "n1_noICIoz3j"
      },
      "source": [
        "ANCHO_IMAGEN=150\n",
        "ALTURA_IMAGEN=150\n",
        "IMAGE_SIZE=(ANCHO_IMAGEN, ALTURA_IMAGEN)\n",
        "CANALES_IMAGENES=3\n",
        "ruta = '/content/drive/MyDrive/NUCLIO/Dogs-vs-cats/'"
      ],
      "execution_count": 3,
      "outputs": []
    },
    {
      "cell_type": "markdown",
      "metadata": {
        "_uuid": "7335a579cc0268fba5d34d6f7558f33c187eedb3",
        "id": "ex_xAKguoz3n"
      },
      "source": [
        "## 4. Preparamos los datos de entrenamiento\n",
        "\n",
        "Los cargaremos del formato NPZ que comentamos en la última clase, y que tenemos en el Drive\n",
        "\n"
      ]
    },
    {
      "cell_type": "code",
      "metadata": {
        "_cell_guid": "79c7e3d0-c299-4dcb-8224-4455121ee9b0",
        "_uuid": "d629ff2d2480ee46fbb7e2d37f6b5fab8052498a",
        "id": "z-eYrcixoz3o"
      },
      "source": [
        "dict_npz = np.load(ruta+'xy_train_img.npz')\n",
        "x_train_img = dict_npz['x']\n",
        "y_train_img = dict_npz['y']\n",
        "\n",
        "dict_npz = np.load(ruta+'xy_test_img.npz')\n",
        "x_test_img = dict_npz['x']\n",
        "y_test_img = dict_npz['y']\n",
        "\n",
        "dict_npz = np.load(ruta+'xy_val_img.npz')\n",
        "x_val_img = dict_npz['x']\n",
        "y_val_img = dict_npz['y']\n",
        "\n",
        "\n",
        "x_train_scaled = x_train_img / 255.\n",
        "x_test_scaled = x_test_img / 255.\n",
        "x_val_scaled = x_val_img / 255."
      ],
      "execution_count": 4,
      "outputs": []
    },
    {
      "cell_type": "code",
      "metadata": {
        "_uuid": "915bb9ba7063ab4d5c07c542419ae119003a5f98",
        "colab": {
          "base_uri": "https://localhost:8080/"
        },
        "id": "owVl2D5Voz3s",
        "outputId": "a2b7ad0d-bc1b-45d3-ff28-1811ecdfb981"
      },
      "source": [
        "print(\"Tamaño X train:\", x_train_scaled.shape)\r\n",
        "print(\"Tamaño Y train:\", y_train_img.shape)\r\n",
        "\r\n",
        "print(\"Tamaño X test:\", x_test_scaled.shape)\r\n",
        "print(\"Tamaño Y test:\", y_test_img.shape)\r\n",
        "\r\n",
        "print(\"Tamaño X val:\", x_val_scaled.shape)\r\n",
        "print(\"Tamaño Y val:\", y_val_img.shape)\r\n",
        "\r\n"
      ],
      "execution_count": 5,
      "outputs": [
        {
          "output_type": "stream",
          "text": [
            "Tamaño X train: (2916, 150, 150, 3)\n",
            "Tamaño Y train: (2916,)\n",
            "Tamaño X test: (989, 150, 150, 3)\n",
            "Tamaño Y test: (989,)\n",
            "Tamaño X val: (988, 150, 150, 3)\n",
            "Tamaño Y val: (988,)\n"
          ],
          "name": "stdout"
        }
      ]
    },
    {
      "cell_type": "markdown",
      "metadata": {
        "_uuid": "a999484fc35b73373fafe2253ae9db7ff46fdb90",
        "id": "3eWnz7Uioz32"
      },
      "source": [
        "## 5. Exploremos los datos"
      ]
    },
    {
      "cell_type": "code",
      "metadata": {
        "_uuid": "fa26f0bc7a6d835a24989790b20f3c6f32946f45",
        "colab": {
          "base_uri": "https://localhost:8080/",
          "height": 292
        },
        "id": "xvjKCJDYoz32",
        "outputId": "f26ded70-8688-48b5-9b15-2256b9651501"
      },
      "source": [
        "df_train = pd.DataFrame(y_train_img, columns=['category'])\r\n",
        "df_train['category'].value_counts().plot.bar()"
      ],
      "execution_count": 6,
      "outputs": [
        {
          "output_type": "execute_result",
          "data": {
            "text/plain": [
              "<matplotlib.axes._subplots.AxesSubplot at 0x7fec71d3d978>"
            ]
          },
          "metadata": {
            "tags": []
          },
          "execution_count": 6
        },
        {
          "output_type": "display_data",
          "data": {
            "image/png": "[encoded data removed]",
            "text/plain": [
              "<Figure size 432x288 with 1 Axes>"
            ]
          },
          "metadata": {
            "tags": [],
            "needs_background": "light"
          }
        }
      ]
    },
    {
      "cell_type": "markdown",
      "metadata": {
        "_uuid": "3a08da58107777a1dd05c4a4bf5c484484923cac",
        "id": "Hqzssxq7oz37"
      },
      "source": [
        "Como podemos ver tenemos 1458 ejemplos de cada clase... poquito para ser una red neuronal para vision por computador... ya vereis..."
      ]
    },
    {
      "cell_type": "markdown",
      "metadata": {
        "_uuid": "400a293df3c8499059d9175f3915187074efd971",
        "id": "3-gXqKRzoz38"
      },
      "source": [
        "## 6. Pintemos una imagen"
      ]
    },
    {
      "cell_type": "code",
      "metadata": {
        "_uuid": "602b40f7353871cb161c60b5237f0da0096b2f47",
        "colab": {
          "base_uri": "https://localhost:8080/",
          "height": 287
        },
        "id": "2hwgI2aVoz39",
        "outputId": "8eafdfed-427f-4cd1-8801-98cdd816a7ae"
      },
      "source": [
        "sample = random.choice(range(0,1457))\n",
        "image = x_train_scaled[sample]\n",
        "plt.imshow(image, cmap=plt.cm.binary)"
      ],
      "execution_count": 15,
      "outputs": [
        {
          "output_type": "execute_result",
          "data": {
            "text/plain": [
              "<matplotlib.image.AxesImage at 0x7fec6fcd81d0>"
            ]
          },
          "metadata": {
            "tags": []
          },
          "execution_count": 15
        },
        {
          "output_type": "display_data",
          "data": {
            "image/png": "[encoded data removed]",
            "text/plain": [
              "<Figure size 432x288 with 1 Axes>"
            ]
          },
          "metadata": {
            "tags": [],
            "needs_background": "light"
          }
        }
      ]
    },
    {
      "cell_type": "markdown",
      "metadata": {
        "_uuid": "b244e6b7715a04fc6df92dd6dfa3d35c473ca600",
        "id": "oCEFBfkWoz4B"
      },
      "source": [
        "## 7. Apilemos bloques para hacer el modelo\n",
        "\n",
        "<img src=\"https://i.imgur.com/ebkMGGu.jpg\" width=\"100%\"/>"
      ]
    },
    {
      "cell_type": "markdown",
      "metadata": {
        "id": "VGbXfyJJsrx-"
      },
      "source": [
        ""
      ]
    },
    {
      "cell_type": "code",
      "metadata": {
        "_uuid": "8c9f833c1441b657c779844912d0b8028218d454",
        "colab": {
          "base_uri": "https://localhost:8080/"
        },
        "id": "RwIlNswdoz4E",
        "outputId": "975148ff-dbe6-4a7a-bf3a-3863fc5107db"
      },
      "source": [
        "model = ks.Sequential()\n",
        "\n",
        "# tenemos 7 capas no necesitariamos el batch normalization, ni el kernel_initializer PERO LO HACEMOS y vemos que no conseguimos mejorar el modelo\n",
        "\n",
        "# añadimos el weight_decay que es el kernel regularizer, en todas las capas\n",
        "# fijaremos una manera optima de fijar los weiths con kernel_initializer he_uniform, en todas las capas\n",
        "# tambien añadimos el batch nomalization, en todas las capas. \n",
        "\n",
        "model.add(ks.layers.Conv2D(16, (3, 3), activation='relu', kernel_regularizer=l2(0.001), kernel_initializer='he_uniform', input_shape=(ANCHO_IMAGEN, ALTURA_IMAGEN, CANALES_IMAGENES)))\n",
        "model.add(ks.layers.BatchNormalization())\n",
        "model.add(ks.layers.MaxPooling2D(pool_size=(2, 2)))\n",
        "\n",
        "model.add(ks.layers.Conv2D(64, (3, 3), activation='relu', kernel_regularizer=l2(0.001), kernel_initializer='he_uniform'))\n",
        "model.add(ks.layers.BatchNormalization())\n",
        "model.add(ks.layers.MaxPooling2D(pool_size=(2, 2)))\n",
        "\n",
        "model.add(ks.layers.Conv2D(128, (3, 3), activation='relu', kernel_regularizer=l2(0.001), kernel_initializer='he_uniform'))\n",
        "model.add(ks.layers.BatchNormalization())\n",
        "model.add(ks.layers.MaxPooling2D(pool_size=(2, 2)))\n",
        "\n",
        "model.add(ks.layers.Conv2D(128, (3, 3), activation='relu', kernel_regularizer=l2(0.001), kernel_initializer='he_uniform'))\n",
        "model.add(ks.layers.BatchNormalization())\n",
        "model.add(ks.layers.MaxPooling2D(pool_size=(2, 2)))\n",
        "\n",
        "model.add(ks.layers.Flatten())\n",
        "model.add(ks.layers.Dense(512, activation='relu', kernel_regularizer=l2(0.001), kernel_initializer='he_uniform'))\n",
        "model.add(ks.layers.BatchNormalization())\n",
        "model.add(ks.layers.Dropout(0.3))\n",
        "model.add(ks.layers.Dense(512, activation='relu', kernel_regularizer=l2(0.001), kernel_initializer='he_uniform'))\n",
        "model.add(ks.layers.BatchNormalization())\n",
        "model.add(ks.layers.Dropout(0.3))\n",
        "model.add(ks.layers.Dense(1, activation='sigmoid')) # 1 de salida porque tenemos dos valores posibles 0 o 1 (tras aplicar un label encoder a dog y cat)\n",
        "\n",
        "model.summary()"
      ],
      "execution_count": 29,
      "outputs": [
        {
          "output_type": "stream",
          "text": [
            "Model: \"sequential_3\"\n",
            "_________________________________________________________________\n",
            "Layer (type)                 Output Shape              Param #   \n",
            "=================================================================\n",
            "conv2d_12 (Conv2D)           (None, 148, 148, 16)      448       \n",
            "_________________________________________________________________\n",
            "batch_normalization_18 (Batc (None, 148, 148, 16)      64        \n",
            "_________________________________________________________________\n",
            "max_pooling2d_12 (MaxPooling (None, 74, 74, 16)        0         \n",
            "_________________________________________________________________\n",
            "conv2d_13 (Conv2D)           (None, 72, 72, 64)        9280      \n",
            "_________________________________________________________________\n",
            "batch_normalization_19 (Batc (None, 72, 72, 64)        256       \n",
            "_________________________________________________________________\n",
            "max_pooling2d_13 (MaxPooling (None, 36, 36, 64)        0         \n",
            "_________________________________________________________________\n",
            "conv2d_14 (Conv2D)           (None, 34, 34, 128)       73856     \n",
            "_________________________________________________________________\n",
            "batch_normalization_20 (Batc (None, 34, 34, 128)       512       \n",
            "_________________________________________________________________\n",
            "max_pooling2d_14 (MaxPooling (None, 17, 17, 128)       0         \n",
            "_________________________________________________________________\n",
            "conv2d_15 (Conv2D)           (None, 15, 15, 128)       147584    \n",
            "_________________________________________________________________\n",
            "batch_normalization_21 (Batc (None, 15, 15, 128)       512       \n",
            "_________________________________________________________________\n",
            "max_pooling2d_15 (MaxPooling (None, 7, 7, 128)         0         \n",
            "_________________________________________________________________\n",
            "flatten_3 (Flatten)          (None, 6272)              0         \n",
            "_________________________________________________________________\n",
            "dense_9 (Dense)              (None, 512)               3211776   \n",
            "_________________________________________________________________\n",
            "batch_normalization_22 (Batc (None, 512)               2048      \n",
            "_________________________________________________________________\n",
            "dropout_6 (Dropout)          (None, 512)               0         \n",
            "_________________________________________________________________\n",
            "dense_10 (Dense)             (None, 512)               262656    \n",
            "_________________________________________________________________\n",
            "batch_normalization_23 (Batc (None, 512)               2048      \n",
            "_________________________________________________________________\n",
            "dropout_7 (Dropout)          (None, 512)               0         \n",
            "_________________________________________________________________\n",
            "dense_11 (Dense)             (None, 1)                 513       \n",
            "=================================================================\n",
            "Total params: 3,711,553\n",
            "Trainable params: 3,708,833\n",
            "Non-trainable params: 2,720\n",
            "_________________________________________________________________\n"
          ],
          "name": "stdout"
        }
      ]
    },
    {
      "cell_type": "markdown",
      "metadata": {
        "id": "oUWzg0-hnesq"
      },
      "source": [
        "## 8. Montemos el optimizador compilando el modelo\n"
      ]
    },
    {
      "cell_type": "code",
      "metadata": {
        "id": "J3XFSpbcnd3M"
      },
      "source": [
        "model.compile(loss='binary_crossentropy', optimizer='Adam', metrics=['accuracy'])"
      ],
      "execution_count": 30,
      "outputs": []
    },
    {
      "cell_type": "markdown",
      "metadata": {
        "_uuid": "bd496f6c65888a969be3703135b0b03a8a1190c8",
        "id": "FjqQRO0Voz4I"
      },
      "source": [
        "## 9. Definamos un callback para el Early Stopping"
      ]
    },
    {
      "cell_type": "markdown",
      "metadata": {
        "_uuid": "76c9ba4fb7f930c96b2c3e0d6b68ed9fa6a4227b",
        "id": "kBF3ly91oz4P"
      },
      "source": [
        "**Early Stopping**\n",
        "\n",
        "Prevenimos el sobre ajuste parando cuando tras 10 epochs y el error de la validacion no decrementa (estamos en una plateau)"
      ]
    },
    {
      "cell_type": "code",
      "metadata": {
        "_uuid": "3421c5ec428da6c0d8cc1184179a9caff1e01d1c",
        "id": "tvAN5_48oz4Q"
      },
      "source": [
        "callback_val_loss = EarlyStopping(monitor=\"val_loss\", patience=5)\n",
        "callback_val_accuracy = EarlyStopping(monitor=\"val_accuracy\", patience=10)"
      ],
      "execution_count": 31,
      "outputs": []
    },
    {
      "cell_type": "markdown",
      "metadata": {
        "id": "YycSloTfoz4Z"
      },
      "source": [
        "## 10. Preparamos los datos"
      ]
    },
    {
      "cell_type": "markdown",
      "metadata": {
        "id": "wIE5IV7voz4a"
      },
      "source": [
        "Haremos un one-hote encoding que nos va a ir bien para nuestra clasificación"
      ]
    },
    {
      "cell_type": "code",
      "metadata": {
        "colab": {
          "base_uri": "https://localhost:8080/"
        },
        "id": "GpngtNKUxV3v",
        "outputId": "53852abf-33f7-4b96-dafd-6037449ce76b"
      },
      "source": [
        "y_train_img"
      ],
      "execution_count": 32,
      "outputs": [
        {
          "output_type": "execute_result",
          "data": {
            "text/plain": [
              "array(['dog', 'cat', 'dog', ..., 'dog', 'dog', 'cat'], dtype='<U3')"
            ]
          },
          "metadata": {
            "tags": []
          },
          "execution_count": 32
        }
      ]
    },
    {
      "cell_type": "code",
      "metadata": {
        "id": "Q9darYNr97B1"
      },
      "source": [
        "from sklearn.preprocessing import LabelEncoder\r\n",
        "\r\n",
        "le = LabelEncoder()\r\n",
        "le.fit(y_train_img)\r\n",
        "y_train_encoded = le.transform(y_train_img)\r\n",
        "y_val_encoded = le.transform(y_val_img)\r\n",
        "y_test_encoded = le.transform(y_test_img)"
      ],
      "execution_count": 33,
      "outputs": []
    },
    {
      "cell_type": "code",
      "metadata": {
        "colab": {
          "base_uri": "https://localhost:8080/"
        },
        "id": "rnqC3rm--O0o",
        "outputId": "76189ab5-969d-4c79-ee76-155f3104b94e"
      },
      "source": [
        "y_train_encoded"
      ],
      "execution_count": 34,
      "outputs": [
        {
          "output_type": "execute_result",
          "data": {
            "text/plain": [
              "array([1, 0, 1, ..., 1, 1, 0])"
            ]
          },
          "metadata": {
            "tags": []
          },
          "execution_count": 34
        }
      ]
    },
    {
      "cell_type": "markdown",
      "metadata": {
        "_uuid": "ff760be9104f7d9492467b8d9d3405011aa77d11",
        "id": "DmgPnBdWoz4u"
      },
      "source": [
        "## 11. Transformador de imagenes a datos consumibles por la red neuronal\n",
        "\n",
        "**De entrenamiento**\n",
        "\n",
        "Aquí incluiremos nuestra parte de generación de imagenes (con código de partida)"
      ]
    },
    {
      "cell_type": "code",
      "metadata": {
        "_uuid": "4d1c7818703a8a4bac5c036fdea45972aa9e5e9e",
        "id": "Nlxz_DO7oz4v"
      },
      "source": [
        "train_datagen = ImageDataGenerator(\n",
        "    rescale=1./255,\n",
        "    )\n",
        "\n",
        "train_generator = train_datagen.flow(\n",
        "    x_train_img, \n",
        "    y_train_encoded, \n",
        "    batch_size=30\n",
        ")"
      ],
      "execution_count": 35,
      "outputs": []
    },
    {
      "cell_type": "markdown",
      "metadata": {
        "_uuid": "859c7b2857939c19fd2e3bb32839c9f7deb5aa3f",
        "id": "e7qjyLM-oz4y"
      },
      "source": [
        "**De validacion y de testeo**\n",
        "\n",
        "Fijaos que aquí la única modificación es un re-escalado, nada de modificaciones"
      ]
    },
    {
      "cell_type": "code",
      "metadata": {
        "_uuid": "7925e16bcacc89f4484fb6fe47e54d6420af732e",
        "id": "HpWcatHOoz4z"
      },
      "source": [
        "validation_datagen = ImageDataGenerator(\n",
        "    rescale=1./255\n",
        "    )\n",
        "validation_generator = validation_datagen.flow(\n",
        "    x_val_img, \n",
        "    y_val_encoded, \n",
        "    batch_size=20\n",
        ")\n",
        "\n",
        "test_datagen = ImageDataGenerator(\n",
        "    rescale=1./255\n",
        "    )\n",
        "test_generator = test_datagen.flow(\n",
        "    x_test_img, \n",
        "    y_test_encoded,\n",
        "    batch_size=20\n",
        ")"
      ],
      "execution_count": 36,
      "outputs": []
    },
    {
      "cell_type": "markdown",
      "metadata": {
        "_uuid": "810ddf1373d9db470ed48da4f30ca5a6c1274435",
        "id": "WRT9BikCoz4-"
      },
      "source": [
        "No tiene mala pinta!!"
      ]
    },
    {
      "cell_type": "markdown",
      "metadata": {
        "id": "oIEMYd471wV8"
      },
      "source": [
        "## 12. Veamos que pinta tiene el generador de datos\r\n",
        "\r\n",
        "A rellenar para ver que nos da el generadord de imagenes nuevas"
      ]
    },
    {
      "cell_type": "code",
      "metadata": {
        "id": "4v0izLCV1346"
      },
      "source": [
        ""
      ],
      "execution_count": 36,
      "outputs": []
    },
    {
      "cell_type": "code",
      "metadata": {
        "id": "XZsGvzQ213CL"
      },
      "source": [
        ""
      ],
      "execution_count": 36,
      "outputs": []
    },
    {
      "cell_type": "markdown",
      "metadata": {
        "_uuid": "5cd8df64e794ed17de326b613a9819e7da977a0e",
        "id": "cT4ohS-ioz4_"
      },
      "source": [
        "## 13. Entrenemos el modelo!"
      ]
    },
    {
      "cell_type": "code",
      "metadata": {
        "_uuid": "0836a4cc8aa0abf603e0f96573c0c4ff383ad56b",
        "colab": {
          "base_uri": "https://localhost:8080/"
        },
        "id": "xgh5rr0doz5A",
        "outputId": "4ecf6a3c-fb27-4c3d-deae-0cdbf7f517b4"
      },
      "source": [
        "epochs = 200\n",
        "\n",
        "history = model.fit(x_train_scaled, y_train_encoded, epochs=epochs, validation_data=(x_val_scaled, y_val_encoded), batch_size=512, callbacks=[callback_val_loss, callback_val_accuracy])"
      ],
      "execution_count": 37,
      "outputs": [
        {
          "output_type": "stream",
          "text": [
            "Epoch 1/200\n",
            "6/6 [==============================] - 6s 570ms/step - loss: 3.7375 - accuracy: 0.5592 - val_loss: 4.9723 - val_accuracy: 0.5334\n",
            "Epoch 2/200\n",
            "6/6 [==============================] - 2s 256ms/step - loss: 3.2627 - accuracy: 0.7269 - val_loss: 3.8171 - val_accuracy: 0.5364\n",
            "Epoch 3/200\n",
            "6/6 [==============================] - 2s 256ms/step - loss: 3.1168 - accuracy: 0.8023 - val_loss: 3.3446 - val_accuracy: 0.5617\n",
            "Epoch 4/200\n",
            "6/6 [==============================] - 2s 258ms/step - loss: 2.9803 - accuracy: 0.8634 - val_loss: 3.3222 - val_accuracy: 0.5698\n",
            "Epoch 5/200\n",
            "6/6 [==============================] - 1s 247ms/step - loss: 2.8371 - accuracy: 0.9161 - val_loss: 3.3704 - val_accuracy: 0.4868\n",
            "Epoch 6/200\n",
            "6/6 [==============================] - 1s 252ms/step - loss: 2.7128 - accuracy: 0.9494 - val_loss: 3.1646 - val_accuracy: 0.6336\n",
            "Epoch 7/200\n",
            "6/6 [==============================] - 2s 264ms/step - loss: 2.5986 - accuracy: 0.9777 - val_loss: 3.5300 - val_accuracy: 0.4706\n",
            "Epoch 8/200\n",
            "6/6 [==============================] - 2s 257ms/step - loss: 2.4996 - accuracy: 0.9902 - val_loss: 3.7303 - val_accuracy: 0.4686\n",
            "Epoch 9/200\n",
            "6/6 [==============================] - 2s 260ms/step - loss: 2.4190 - accuracy: 0.9919 - val_loss: 3.6107 - val_accuracy: 0.4737\n",
            "Epoch 10/200\n",
            "6/6 [==============================] - 2s 258ms/step - loss: 2.3386 - accuracy: 0.9946 - val_loss: 3.4519 - val_accuracy: 0.4798\n",
            "Epoch 11/200\n",
            "6/6 [==============================] - 1s 252ms/step - loss: 2.2696 - accuracy: 0.9949 - val_loss: 3.9868 - val_accuracy: 0.4676\n"
          ],
          "name": "stdout"
        }
      ]
    },
    {
      "cell_type": "markdown",
      "metadata": {
        "_uuid": "aa1fbc4081ae0de2993188b2bf658a0be5bc0687",
        "id": "A6Uio2wgoz5D"
      },
      "source": [
        "## 14. Guardemos el modelo"
      ]
    },
    {
      "cell_type": "code",
      "metadata": {
        "_uuid": "67575a4decdaf79a915d23151626b784ffa82642",
        "id": "Wv8k1cSeoz5E"
      },
      "source": [
        "model.save(ruta+'model_without_data_augmentation_plus_batchnormalization.h5')"
      ],
      "execution_count": 27,
      "outputs": []
    },
    {
      "cell_type": "markdown",
      "metadata": {
        "_uuid": "1b76c0a9040bc0babf0a453e567e41e22f8a1e0e",
        "id": "7CWxAqsOoz5H"
      },
      "source": [
        "## 15. Veamos los resultados"
      ]
    },
    {
      "cell_type": "code",
      "metadata": {
        "_uuid": "79055f2dc3e2abb47bea758e0464c86ca42ab431",
        "colab": {
          "base_uri": "https://localhost:8080/",
          "height": 545
        },
        "id": "if5uxIKkoz5I",
        "outputId": "ead4e447-7256-4806-9fa4-7bfe615313aa"
      },
      "source": [
        "plt.title('Cross Entropy Loss')\n",
        "plt.plot(history.history['loss'], color='blue', label='train')\n",
        "plt.plot(history.history['val_loss'], color='orange', label='test')\n",
        "plt.show()\n",
        "\n",
        "plt.title('Classification Accuracy')\n",
        "plt.plot(history.history['accuracy'], color='blue', label='train')\n",
        "plt.plot(history.history['val_accuracy'], color='orange', label='test')\n",
        "plt.show()"
      ],
      "execution_count": 28,
      "outputs": [
        {
          "output_type": "display_data",
          "data": {
            "image/png": "[encoded data removed]",
            "text/plain": [
              "<Figure size 432x288 with 1 Axes>"
            ]
          },
          "metadata": {
            "tags": [],
            "needs_background": "light"
          }
        },
        {
          "output_type": "display_data",
          "data": {
            "image/png": "[encoded data removed]",
            "text/plain": [
              "<Figure size 432x288 with 1 Axes>"
            ]
          },
          "metadata": {
            "tags": [],
            "needs_background": "light"
          }
        }
      ]
    },
    {
      "cell_type": "code",
      "metadata": {
        "id": "PEtAd5Xwp1_y"
      },
      "source": [
        "_, acc = model.evaluate(x_test_scaled, y_test_encoded, verbose=0)\r\n",
        "print('Modelocon Batch Normalizationn > %.3f' % (acc * 100.0))"
      ],
      "execution_count": null,
      "outputs": []
    }
  ]
}