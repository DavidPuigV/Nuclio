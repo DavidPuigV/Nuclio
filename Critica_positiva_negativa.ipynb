{
  "nbformat": 4,
  "nbformat_minor": 0,
  "metadata": {
    "colab": {
      "name": "Critica-positiva/negativa.ipynb",
      "provenance": [],
      "collapsed_sections": [],
      "authorship_tag": "ABX9TyPNSYoMOFSeGRR8jd1CjBmv",
      "include_colab_link": true
    },
    "kernelspec": {
      "name": "python3",
      "display_name": "Python 3"
    },
    "accelerator": "GPU"
  },
  "cells": [
    {
      "cell_type": "markdown",
      "metadata": {
        "id": "view-in-github",
        "colab_type": "text"
      },
      "source": [
        "<a href=\"https://colab.research.google.com/github/DavidPuigV/Nuclio/blob/main/Critica_positiva_negativa.ipynb\" target=\"_parent\"><img src=\"https://colab.research.google.com/assets/colab-badge.svg\" alt=\"Open In Colab\"/></a>"
      ]
    },
    {
      "cell_type": "code",
      "metadata": {
        "id": "18Qa5pRdfF_Z"
      },
      "source": [
        "from tensorflow import keras as ks\r\n",
        "from tensorflow.keras.datasets import imdb\r\n",
        "from matplotlib import pyplot as plt\r\n",
        "import numpy as np"
      ],
      "execution_count": 1,
      "outputs": []
    },
    {
      "cell_type": "code",
      "metadata": {
        "id": "Z0xUG816fS-X"
      },
      "source": [
        "vocabulary_size = 10000"
      ],
      "execution_count": 2,
      "outputs": []
    },
    {
      "cell_type": "code",
      "metadata": {
        "colab": {
          "base_uri": "https://localhost:8080/"
        },
        "id": "Kfpt1xBkfe4z",
        "outputId": "39de7ab9-80a0-46be-ef77-d05097ccd537"
      },
      "source": [
        "(x_train_original, y_train_original), (x_test_original, y_test_original) = imdb.load_data(num_words=10000)"
      ],
      "execution_count": 3,
      "outputs": [
        {
          "output_type": "stream",
          "text": [
            "<string>:6: VisibleDeprecationWarning: Creating an ndarray from ragged nested sequences (which is a list-or-tuple of lists-or-tuples-or ndarrays with different lengths or shapes) is deprecated. If you meant to do this, you must specify 'dtype=object' when creating the ndarray\n",
            "/usr/local/lib/python3.6/dist-packages/tensorflow/python/keras/datasets/imdb.py:159: VisibleDeprecationWarning: Creating an ndarray from ragged nested sequences (which is a list-or-tuple of lists-or-tuples-or ndarrays with different lengths or shapes) is deprecated. If you meant to do this, you must specify 'dtype=object' when creating the ndarray\n",
            "  x_train, y_train = np.array(xs[:idx]), np.array(labels[:idx])\n",
            "/usr/local/lib/python3.6/dist-packages/tensorflow/python/keras/datasets/imdb.py:160: VisibleDeprecationWarning: Creating an ndarray from ragged nested sequences (which is a list-or-tuple of lists-or-tuples-or ndarrays with different lengths or shapes) is deprecated. If you meant to do this, you must specify 'dtype=object' when creating the ndarray\n",
            "  x_test, y_test = np.array(xs[idx:]), np.array(labels[idx:])\n"
          ],
          "name": "stderr"
        }
      ]
    },
    {
      "cell_type": "code",
      "metadata": {
        "colab": {
          "base_uri": "https://localhost:8080/"
        },
        "id": "InhpTo1mf6Lo",
        "outputId": "6039304e-a9ea-48c0-9fab-4a7f5f10d4ee"
      },
      "source": [
        "print('size train: ', x_train_original.size)\r\n",
        "print('size test: ', x_test_original.size)"
      ],
      "execution_count": 4,
      "outputs": [
        {
          "output_type": "stream",
          "text": [
            "size train:  25000\n",
            "size test:  25000\n"
          ],
          "name": "stdout"
        }
      ]
    },
    {
      "cell_type": "code",
      "metadata": {
        "id": "AluNRQ2-gB0a"
      },
      "source": [
        "datos = np.concatenate((x_train_original, x_test_original), axis = 0)\r\n",
        "labels = np.concatenate((y_train_original, y_test_original), axis = 0)"
      ],
      "execution_count": 5,
      "outputs": []
    },
    {
      "cell_type": "code",
      "metadata": {
        "colab": {
          "base_uri": "https://localhost:8080/"
        },
        "id": "mIkrdelQgYyV",
        "outputId": "79d12fef-1776-4d9a-aee1-e800b07107dc"
      },
      "source": [
        "print(np.unique(labels))\r\n",
        "print('Palabras unicas: ', len(np.unique(np.hstack(datos))))"
      ],
      "execution_count": 6,
      "outputs": [
        {
          "output_type": "stream",
          "text": [
            "[0 1]\n",
            "Palabras unicas:  9998\n"
          ],
          "name": "stdout"
        }
      ]
    },
    {
      "cell_type": "code",
      "metadata": {
        "colab": {
          "base_uri": "https://localhost:8080/"
        },
        "id": "NOKWyjmxggX5",
        "outputId": "742697fa-3890-4829-a077-86e737490037"
      },
      "source": [
        "longitud = [len(i) for i in datos]\r\n",
        "print('longitud media frases:', np.mean(longitud))\r\n",
        "print('desviacion standard:', np.std(longitud))"
      ],
      "execution_count": 7,
      "outputs": [
        {
          "output_type": "stream",
          "text": [
            "longitud media frases: 234.75892\n",
            "desviacion standard: 172.91149458735703\n"
          ],
          "name": "stdout"
        }
      ]
    },
    {
      "cell_type": "code",
      "metadata": {
        "id": "lhgNw7hohhY1"
      },
      "source": [
        "# van de 62 a 408 palabras   (235+-173)"
      ],
      "execution_count": 8,
      "outputs": []
    },
    {
      "cell_type": "code",
      "metadata": {
        "colab": {
          "base_uri": "https://localhost:8080/"
        },
        "id": "oY2fujNUib8p",
        "outputId": "062d320f-54b0-41ab-ee41-603b6c3f4019"
      },
      "source": [
        "print('etiqueta primera', labels[0])   # la primera etiqueta es 1 por tanto critica positiva\r\n",
        "print('frase primera', datos[0])"
      ],
      "execution_count": 9,
      "outputs": [
        {
          "output_type": "stream",
          "text": [
            "etiqueta primera 1\n",
            "frase primera [1, 14, 22, 16, 43, 530, 973, 1622, 1385, 65, 458, 4468, 66, 3941, 4, 173, 36, 256, 5, 25, 100, 43, 838, 112, 50, 670, 2, 9, 35, 480, 284, 5, 150, 4, 172, 112, 167, 2, 336, 385, 39, 4, 172, 4536, 1111, 17, 546, 38, 13, 447, 4, 192, 50, 16, 6, 147, 2025, 19, 14, 22, 4, 1920, 4613, 469, 4, 22, 71, 87, 12, 16, 43, 530, 38, 76, 15, 13, 1247, 4, 22, 17, 515, 17, 12, 16, 626, 18, 2, 5, 62, 386, 12, 8, 316, 8, 106, 5, 4, 2223, 5244, 16, 480, 66, 3785, 33, 4, 130, 12, 16, 38, 619, 5, 25, 124, 51, 36, 135, 48, 25, 1415, 33, 6, 22, 12, 215, 28, 77, 52, 5, 14, 407, 16, 82, 2, 8, 4, 107, 117, 5952, 15, 256, 4, 2, 7, 3766, 5, 723, 36, 71, 43, 530, 476, 26, 400, 317, 46, 7, 4, 2, 1029, 13, 104, 88, 4, 381, 15, 297, 98, 32, 2071, 56, 26, 141, 6, 194, 7486, 18, 4, 226, 22, 21, 134, 476, 26, 480, 5, 144, 30, 5535, 18, 51, 36, 28, 224, 92, 25, 104, 4, 226, 65, 16, 38, 1334, 88, 12, 16, 283, 5, 16, 4472, 113, 103, 32, 15, 16, 5345, 19, 178, 32]\n"
          ],
          "name": "stdout"
        }
      ]
    },
    {
      "cell_type": "code",
      "metadata": {
        "id": "mejASx0KiqcF"
      },
      "source": [
        "# vamos a ver si podemos traducir esa frase, vamos a ver el indexador\r\n",
        "\r\n",
        "index= imdb.get_word_index()    # lee indices de la base de datos IMDB word --> valor\r\n",
        "reverse_index = dict([(valor, palabra) for (palabra, valor) in index.items()]) # montamos un indice reverso para ir de valor --> word\r\n"
      ],
      "execution_count": 10,
      "outputs": []
    },
    {
      "cell_type": "code",
      "metadata": {
        "colab": {
          "base_uri": "https://localhost:8080/"
        },
        "id": "3ZHFQ7mij0Sn",
        "outputId": "9446dfa5-c909-4ee5-d056-5d575c95a455"
      },
      "source": [
        "print(index.get('bravora'))"
      ],
      "execution_count": 11,
      "outputs": [
        {
          "output_type": "stream",
          "text": [
            "52018\n"
          ],
          "name": "stdout"
        }
      ]
    },
    {
      "cell_type": "code",
      "metadata": {
        "colab": {
          "base_uri": "https://localhost:8080/",
          "height": 35
        },
        "id": "z0yAFJZukk7W",
        "outputId": "10f05520-c7a3-470a-e744-21a720087b19"
      },
      "source": [
        "reverse_index.get(52018)"
      ],
      "execution_count": 12,
      "outputs": [
        {
          "output_type": "execute_result",
          "data": {
            "application/vnd.google.colaboratory.intrinsic+json": {
              "type": "string"
            },
            "text/plain": [
              "'bravora'"
            ]
          },
          "metadata": {
            "tags": []
          },
          "execution_count": 12
        }
      ]
    },
    {
      "cell_type": "code",
      "metadata": {
        "colab": {
          "base_uri": "https://localhost:8080/"
        },
        "id": "w6g5bWmki1lS",
        "outputId": "a266a972-951e-4fd5-f535-12fe5717414e"
      },
      "source": [
        "texto_decoded = ' '.join([reverse_index.get(i-3,'\\n') for i in datos[0]]) # decode del texto de la primera frase\r\n",
        "print(texto_decoded)"
      ],
      "execution_count": 13,
      "outputs": [
        {
          "output_type": "stream",
          "text": [
            "\n",
            " this film was just brilliant casting location scenery story direction everyone's really suited the part they played and you could just imagine being there robert \n",
            " is an amazing actor and now the same being director \n",
            " father came from the same scottish island as myself so i loved the fact there was a real connection with this film the witty remarks throughout the film were great it was just brilliant so much that i bought the film as soon as it was released for \n",
            " and would recommend it to everyone to watch and the fly fishing was amazing really cried at the end it was so sad and you know what they say if you cry at a film it must have been good and this definitely was also \n",
            " to the two little boy's that played the \n",
            " of norman and paul they were just brilliant children are often left out of the \n",
            " list i think because the stars that play them all grown up are such a big profile for the whole film but these children are amazing and should be praised for what they have done don't you think the whole story was so lovely because it was true and was someone's life after all that was shared with us all\n"
          ],
          "name": "stdout"
        }
      ]
    },
    {
      "cell_type": "code",
      "metadata": {
        "id": "cCZUSTBjkR6V"
      },
      "source": [
        "from tensorflow.keras.preprocessing import sequence"
      ],
      "execution_count": 14,
      "outputs": []
    },
    {
      "cell_type": "code",
      "metadata": {
        "id": "fDUs62ppmJXN"
      },
      "source": [
        "datos = sequence.pad_sequences(datos, maxlen=vocabulary_size) # todos los vectores son de diferentes tamños y ahora los convertimos todos igual añadiendo ceros al inicio\r\n",
        "labels = np.array(labels).astype('float32') # no los metemos al final porque al meterlo al final, la sigmoide los olvidara y no queremos que los olvide."
      ],
      "execution_count": 15,
      "outputs": []
    },
    {
      "cell_type": "code",
      "metadata": {
        "colab": {
          "base_uri": "https://localhost:8080/"
        },
        "id": "VG8JmKfSmeYz",
        "outputId": "09e872f3-e4e5-40a6-ddb9-1050370b8009"
      },
      "source": [
        "longitud = [len(i) for i in datos]\r\n",
        "print('longitud media frases:', np.mean(longitud))\r\n",
        "print('desviacion standard:', np.std(longitud))"
      ],
      "execution_count": 16,
      "outputs": [
        {
          "output_type": "stream",
          "text": [
            "longitud media frases: 10000.0\n",
            "desviacion standard: 0.0\n"
          ],
          "name": "stdout"
        }
      ]
    },
    {
      "cell_type": "code",
      "metadata": {
        "colab": {
          "base_uri": "https://localhost:8080/"
        },
        "id": "X-YlDgZomq_3",
        "outputId": "69180c76-90fb-430d-e488-c81d494bbdb9"
      },
      "source": [
        "print(datos[0]) # fila\r\n",
        "print(datos)   # array\r\n"
      ],
      "execution_count": 17,
      "outputs": [
        {
          "output_type": "stream",
          "text": [
            "[  0   0   0 ...  19 178  32]\n",
            "[[   0    0    0 ...   19  178   32]\n",
            " [   0    0    0 ...   16  145   95]\n",
            " [   0    0    0 ...    7  129  113]\n",
            " ...\n",
            " [   0    0    0 ...   21  846 5518]\n",
            " [   0    0    0 ... 2302    7  470]\n",
            " [   0    0    0 ...   34 2005 2643]]\n"
          ],
          "name": "stdout"
        }
      ]
    },
    {
      "cell_type": "code",
      "metadata": {
        "colab": {
          "base_uri": "https://localhost:8080/"
        },
        "id": "gaAhYGYXnKM0",
        "outputId": "b4621427-c9ce-46a2-cb14-e8723083d698"
      },
      "source": [
        "x_test = datos[-10000:]\r\n",
        "y_test = labels[-10000:]\r\n",
        "\r\n",
        "x_train = datos[:-10000]\r\n",
        "y_train = labels[:-10000]\r\n",
        "\r\n",
        "len(x_train)"
      ],
      "execution_count": 18,
      "outputs": [
        {
          "output_type": "execute_result",
          "data": {
            "text/plain": [
              "40000"
            ]
          },
          "metadata": {
            "tags": []
          },
          "execution_count": 18
        }
      ]
    },
    {
      "cell_type": "code",
      "metadata": {
        "colab": {
          "base_uri": "https://localhost:8080/"
        },
        "id": "ucvV0VNlnulY",
        "outputId": "3a6c4257-0b27-4968-876c-f1956a4ca950"
      },
      "source": [
        "# montamos nuestra red neuronal\r\n",
        "model = ks.Sequential()\r\n",
        "\r\n",
        "model.add(ks.layers.Embedding(vocabulary_size, output_dim=32, input_length=vocabulary_size)) # array to vector\r\n",
        "model.add(ks.layers.LSTM(100))\r\n",
        "model.add(ks.layers.Dense(32, activation='relu', kernel_initializer='he_uniform')) # fully conected\r\n",
        "model.add(ks.layers.Dropout(0.5))\r\n",
        "model.add(ks.layers.Dense(1, activation='sigmoid'))\r\n",
        "model.summary()"
      ],
      "execution_count": 19,
      "outputs": [
        {
          "output_type": "stream",
          "text": [
            "Model: \"sequential\"\n",
            "_________________________________________________________________\n",
            "Layer (type)                 Output Shape              Param #   \n",
            "=================================================================\n",
            "embedding (Embedding)        (None, 10000, 32)         320000    \n",
            "_________________________________________________________________\n",
            "lstm (LSTM)                  (None, 100)               53200     \n",
            "_________________________________________________________________\n",
            "dense (Dense)                (None, 32)                3232      \n",
            "_________________________________________________________________\n",
            "dropout (Dropout)            (None, 32)                0         \n",
            "_________________________________________________________________\n",
            "dense_1 (Dense)              (None, 1)                 33        \n",
            "=================================================================\n",
            "Total params: 376,465\n",
            "Trainable params: 376,465\n",
            "Non-trainable params: 0\n",
            "_________________________________________________________________\n"
          ],
          "name": "stdout"
        }
      ]
    },
    {
      "cell_type": "code",
      "metadata": {
        "id": "SL1EhLTCooos"
      },
      "source": [
        "from tensorflow.keras.callbacks import EarlyStopping\r\n",
        "callback = EarlyStopping(monitor='val_loss', patience=3)"
      ],
      "execution_count": 20,
      "outputs": []
    },
    {
      "cell_type": "code",
      "metadata": {
        "id": "P-N6305fpMQz"
      },
      "source": [
        "model.compile(loss='binary_crossentropy', optimizer='adam', metrics='accuracy')"
      ],
      "execution_count": 21,
      "outputs": []
    },
    {
      "cell_type": "code",
      "metadata": {
        "colab": {
          "base_uri": "https://localhost:8080/"
        },
        "id": "l3xPrOxlpVxL",
        "outputId": "a36b1b97-c444-4572-d266-b4ee43ebbe97"
      },
      "source": [
        "history = model.fit(x_train, y_train, epochs=20, batch_size=128, validation_data=(x_test, y_test), callbacks=[callback])"
      ],
      "execution_count": 22,
      "outputs": [
        {
          "output_type": "stream",
          "text": [
            "Epoch 1/20\n",
            "313/313 [==============================] - 204s 643ms/step - loss: 0.6073 - accuracy: 0.6477 - val_loss: 0.3001 - val_accuracy: 0.8705\n",
            "Epoch 2/20\n",
            "313/313 [==============================] - 201s 641ms/step - loss: 0.2963 - accuracy: 0.8861 - val_loss: 0.2723 - val_accuracy: 0.8884\n",
            "Epoch 3/20\n",
            "313/313 [==============================] - 201s 641ms/step - loss: 0.2070 - accuracy: 0.9263 - val_loss: 0.2926 - val_accuracy: 0.8961\n",
            "Epoch 4/20\n",
            "313/313 [==============================] - 200s 640ms/step - loss: 0.1789 - accuracy: 0.9367 - val_loss: 0.3257 - val_accuracy: 0.8794\n",
            "Epoch 5/20\n",
            "313/313 [==============================] - 200s 639ms/step - loss: 0.1514 - accuracy: 0.9479 - val_loss: 0.3234 - val_accuracy: 0.8803\n"
          ],
          "name": "stdout"
        }
      ]
    },
    {
      "cell_type": "code",
      "metadata": {
        "colab": {
          "base_uri": "https://localhost:8080/",
          "height": 545
        },
        "id": "HAT07knCppmJ",
        "outputId": "c75eb2ff-dea5-40ef-bdb2-96bf89f8c112"
      },
      "source": [
        "\r\n",
        "plt.title('Cross Entropy Loss')\r\n",
        "plt.plot(history.history['loss'], color='blue', label='train')\r\n",
        "plt.plot(history.history['val_loss'], color='orange', label='test')\r\n",
        "plt.show()\r\n",
        "\r\n",
        "plt.title('Classification Accuracy')\r\n",
        "plt.plot(history.history['accuracy'], color='blue', label='train')\r\n",
        "plt.plot(history.history['val_accuracy'], color='orange', label='test')\r\n",
        "plt.show()"
      ],
      "execution_count": 23,
      "outputs": [
        {
          "output_type": "display_data",
          "data": {
            "image/png": "[encoded data removed]",
            "text/plain": [
              "<Figure size 432x288 with 1 Axes>"
            ]
          },
          "metadata": {
            "tags": [],
            "needs_background": "light"
          }
        },
        {
          "output_type": "display_data",
          "data": {
            "image/png": "[encoded data removed]",
            "text/plain": [
              "<Figure size 432x288 with 1 Axes>"
            ]
          },
          "metadata": {
            "tags": [],
            "needs_background": "light"
          }
        }
      ]
    }
  ]
}